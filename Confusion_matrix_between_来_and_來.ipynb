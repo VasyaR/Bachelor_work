{
 "cells": [
  {
   "cell_type": "markdown",
   "id": "05e9b0ce",
   "metadata": {},
   "source": [
    "# Imports"
   ]
  },
  {
   "cell_type": "code",
   "execution_count": 4,
   "id": "934db43d",
   "metadata": {},
   "outputs": [],
   "source": [
    "import torch\n",
    "import torch.nn as nn\n",
    "import torch.nn.functional as F\n",
    "import pickle\n",
    "\n",
    "import numpy as np\n",
    "import pandas as pd\n",
    "import random\n",
    "import os\n",
    "\n",
    "from tqdm import tqdm\n",
    "\n",
    "import torchvision\n",
    "import torchvision.models as models\n",
    "from torchvision import transforms, datasets\n",
    "import torch.utils.data as data\n",
    "import torchvision.datasets\n",
    "from torch.utils.data.sampler import WeightedRandomSampler\n",
    "\n",
    "from sklearn.model_selection import train_test_split\n",
    "from sklearn.metrics import average_precision_score, precision_recall_fscore_support\n",
    "\n",
    "from scipy.stats import binomtest\n",
    "from scipy.stats import norm\n",
    "\n",
    "from torchvision.models.resnet import conv3x3, _resnet, ResNet18_Weights\n",
    "\n",
    "import matplotlib.pyplot as plt\n",
    "from PIL import ImageOps, Image\n",
    "\n",
    "random.seed(0)\n",
    "np.random.seed(0)\n",
    "torch.manual_seed(0)\n",
    "torch.cuda.manual_seed(0)\n",
    "torch.backends.cudnn.deterministic = True\n",
    "\n",
    "# device = 'cpu' \n",
    "device = torch.device('cuda:0' if torch.cuda.is_available() else 'cpu')\n",
    "\n",
    "# Paths to data\n",
    "kkanji_150_path = \"/mnt/d/Bachelor_work/data_for_model/kkanji2_150\"\n",
    "kkanji_200_path = \"/mnt/d/Bachelor_work/data_for_model/kkanji2_200\"\n",
    "kkanji_300_path = \"/mnt/d/Bachelor_work/data_for_model/kkanji2_300\""
   ]
  },
  {
   "cell_type": "markdown",
   "id": "5c02e912",
   "metadata": {},
   "source": [
    "# Preact block"
   ]
  },
  {
   "cell_type": "code",
   "execution_count": 5,
   "id": "4a80895a",
   "metadata": {},
   "outputs": [],
   "source": [
    "class PreactBasicBlock(nn.Module):\n",
    "    expansion = 1\n",
    "\n",
    "    def __init__(self, inplanes, planes, stride=1, downsample=None, groups=1,\n",
    "                 base_width=64, dilation=1, norm_layer=None):\n",
    "        super(PreactBasicBlock, self).__init__()\n",
    "\n",
    "        if norm_layer is None:\n",
    "            norm_layer = nn.BatchNorm2d\n",
    "\n",
    "        if groups != 1 or base_width != 64:\n",
    "            raise ValueError('BasicBlock only supports groups=1 and base_width=64')\n",
    "\n",
    "        if dilation > 1:\n",
    "            raise NotImplementedError(\"Dilation > 1 not supported in BasicBlock\")\n",
    "\n",
    "        # Both self.conv1 and self.downsample layers downsample the input when stride != 1\n",
    "        self.bn1 = nn.BatchNorm2d(inplanes)\n",
    "        self.relu1 = nn.ReLU(inplace=True)\n",
    "        self.conv1 = conv3x3(inplanes, planes, stride)\n",
    "\n",
    "        self.bn2 = nn.BatchNorm2d(planes)\n",
    "        self.relu2 = nn.ReLU(inplace=True)\n",
    "        self.conv2 = conv3x3(planes, planes)\n",
    "\n",
    "        self.downsample = downsample\n",
    "        self.stride = stride\n",
    "\n",
    "    def forward(self, x):\n",
    "\n",
    "        identity = x\n",
    "\n",
    "        out = self.bn1(x)\n",
    "        out = self.relu1(out)\n",
    "        out = self.conv1(out)\n",
    "\n",
    "        out = self.bn2(out)\n",
    "        out = self.relu2(out)\n",
    "        out = self.conv2(out)\n",
    "\n",
    "        if self.downsample is not None:\n",
    "            identity = self.downsample(x)\n",
    "\n",
    "        out += identity\n",
    "\n",
    "        return out"
   ]
  },
  {
   "cell_type": "markdown",
   "id": "a9ab2ba5",
   "metadata": {},
   "source": [
    "# Dataloader"
   ]
  },
  {
   "cell_type": "code",
   "execution_count": 6,
   "id": "56eb52f4",
   "metadata": {},
   "outputs": [],
   "source": [
    "def get_dataloaders(batch_size: int = 16, classamount: int = 150, train_test_indices_path: str = None):\n",
    "    # Define transformations\n",
    "    my_transform = transforms.Compose([\n",
    "                transforms.Grayscale(num_output_channels=3),\n",
    "                transforms.Resize(64),\n",
    "                transforms.ToTensor(),\n",
    "                transforms.Normalize([0.5, 0.5, 0.5], [0.5, 0.5, 0.5])  # Normalize each channel to (-1, 1)  # Normalize to (-1, 1)\n",
    "            ])\n",
    "\n",
    "    if classamount == 150:\n",
    "        # Load dataset 150\n",
    "        full_dataset = datasets.ImageFolder(root=kkanji_150_path, transform=my_transform)\n",
    "\n",
    "    elif classamount == 200:\n",
    "        # Load dataset 200\n",
    "        full_dataset = datasets.ImageFolder(root=kkanji_200_path, transform=my_transform)\n",
    "\n",
    "    elif classamount == 300:\n",
    "        # Load dataset 300\n",
    "        full_dataset = datasets.ImageFolder(root=kkanji_300_path, transform=my_transform)\n",
    "\n",
    "    train_indices = []\n",
    "    test_indices = []\n",
    "    # Split dataset into training and testing sets\n",
    "\n",
    "    if train_test_indices_path is not None and os.path.exists(train_test_indices_path):\n",
    "        with open(train_test_indices_path, \"rb\") as f:\n",
    "            indices = pickle.load(f)\n",
    "            train_indices = indices[\"train_indices\"]\n",
    "            test_indices = indices[\"test_indices\"]\n",
    "                \n",
    "    else:    \n",
    "        train_indices, test_indices = train_test_split(\n",
    "            list(range(len(full_dataset))),\n",
    "            test_size=0.3,\n",
    "            stratify=[label for _, label in full_dataset.samples]\n",
    "        )\n",
    "        \n",
    "        # Save indices\n",
    "        with open(train_test_indices_path, \"wb\") as f:\n",
    "            pickle.dump({\"train_indices\": train_indices, \"test_indices\": test_indices}, f)\n",
    "\n",
    "    train_dataset = data.Subset(full_dataset, train_indices)\n",
    "    test_dataset = data.Subset(full_dataset, test_indices)\n",
    "\n",
    "    # Calculate class weights for the training set\n",
    "    class_counts = [0] * len(full_dataset.classes)\n",
    "\n",
    "    for idx in train_indices:\n",
    "        _, label = full_dataset.samples[idx]\n",
    "        class_counts[label] += 1\n",
    "\n",
    "    class_weights = [1.0 / count for count in class_counts]\n",
    "    sample_weights = [class_weights[full_dataset.samples[idx][1]] for idx in train_indices]\n",
    "\n",
    "    # Create a WeightedRandomSampler for the training set\n",
    "    sampler = WeightedRandomSampler(weights=sample_weights, num_samples=len(sample_weights), replacement=True)\n",
    "\n",
    "    # Create DataLoaders\n",
    "    trainloader = data.DataLoader(train_dataset, batch_size=batch_size, sampler=sampler, num_workers=4)\n",
    "    testloader = data.DataLoader(test_dataset, batch_size=batch_size, shuffle=False, num_workers=4)\n",
    "\n",
    "    return trainloader, testloader, full_dataset"
   ]
  },
  {
   "cell_type": "markdown",
   "id": "f57819bc",
   "metadata": {},
   "source": [
    "# Setup model and dataloaders"
   ]
  },
  {
   "cell_type": "code",
   "execution_count": 6,
   "id": "d0f719db",
   "metadata": {},
   "outputs": [
    {
     "name": "stderr",
     "output_type": "stream",
     "text": [
      "/tmp/ipykernel_160113/880595771.py:7: FutureWarning: You are using `torch.load` with `weights_only=False` (the current default value), which uses the default pickle module implicitly. It is possible to construct malicious pickle data which will execute arbitrary code during unpickling (See https://github.com/pytorch/pytorch/blob/main/SECURITY.md#untrusted-models for more details). In a future release, the default value for `weights_only` will be flipped to `True`. This limits the functions that could be executed during unpickling. Arbitrary objects will no longer be allowed to be loaded via this mode unless they are explicitly allowlisted by the user via `torch.serialization.add_safe_globals`. We recommend you start setting `weights_only=True` for any use case where you don't have full control of the loaded file. Please open an issue on GitHub for any issues related to this experimental feature.\n",
      "  model.load_state_dict(torch.load(model_path, map_location=device))\n"
     ]
    }
   ],
   "source": [
    "# Setup model and dataloaders\n",
    "model_path = \"/mnt/d/Bachelor_work/data_for_model/model_pretrained_unfreeze_all_300_stuff/model.pth\"\n",
    "\n",
    "model = _resnet(PreactBasicBlock, [2, 2, 2, 2], None, progress=False)\n",
    "model.fc = nn.Linear(model.fc.in_features, 300)\n",
    "if os.path.exists(model_path):\n",
    "    model.load_state_dict(torch.load(model_path, map_location=device))\n",
    "else:\n",
    "    print(\"Model path does not exist, using default weights\")\n",
    "model = model.to(device)\n",
    "trainloader, testloader, full_dataset = get_dataloaders(batch_size=16, classamount=300, train_test_indices_path=\"/mnt/d/Bachelor_work/data_for_model/train_test_indices_300.pkl\")\n"
   ]
  },
  {
   "cell_type": "code",
   "execution_count": 14,
   "id": "a324f5b1",
   "metadata": {},
   "outputs": [],
   "source": [
    "# Create a confusion matrix between the two classes\n",
    "def create_confusion_matrix(model, testloader, class1_idx, class2_idx):\n",
    "    model.eval()\n",
    "    confusion_matrix = np.zeros((2, 2), dtype=int)\n",
    "\n",
    "    with torch.no_grad():\n",
    "        for inputs, labels in tqdm(testloader, desc=\"Evaluating\", leave=False):\n",
    "            inputs, labels = inputs.to(device), labels.to(device)\n",
    "            outputs = model(inputs)\n",
    "            _, preds = torch.max(outputs, 1)\n",
    "\n",
    "            for i in range(labels.size(0)):\n",
    "                true_label = labels[i].item()\n",
    "                pred_label = preds[i].item()\n",
    "\n",
    "                if true_label == class1_idx or true_label == class2_idx:\n",
    "                    # True label\n",
    "                    row = 0 if true_label == class1_idx else 1\n",
    "\n",
    "                    # Only care if prediction is one of the two classes\n",
    "                    if pred_label == class1_idx:\n",
    "                        col = 0\n",
    "                    elif pred_label == class2_idx:\n",
    "                        col = 1\n",
    "                    else:\n",
    "                        continue  # skip irrelevant predictions\n",
    "\n",
    "                    confusion_matrix[row][col] += 1\n",
    "\n",
    "    return confusion_matrix\n",
    "\n",
    "def plot_confusion_matrix(cm, classes, title='Confusion matrix', cmap=plt.cm.Blues):\n",
    "    # Save the plot. Don't use imshow\n",
    "    plt.figure(figsize=(8, 6))\n",
    "    plt.imshow(cm, interpolation='nearest', cmap=cmap)\n",
    "    # Add number of samples in each cell\n",
    "    for i in range(len(cm)):\n",
    "        for j in range(len(cm[i])):\n",
    "            plt.text(j, i, cm[i][j], ha='center', va='center', color='white' if cm[i][j] > cm.max()/2 else 'black')\n",
    "    plt.title(title)\n",
    "    plt.colorbar()\n",
    "    tick_marks = np.arange(len(classes))\n",
    "    plt.xticks(tick_marks, classes, rotation=45)\n",
    "    plt.yticks(tick_marks, classes)\n",
    "    plt.tight_layout()\n",
    "    plt.ylabel('True label')\n",
    "    plt.xlabel('Predicted label')\n",
    "    plt.savefig('confusion_matrix_between_来_and_來.png')"
   ]
  },
  {
   "cell_type": "code",
   "execution_count": null,
   "id": "19c8bac4",
   "metadata": {},
   "outputs": [
    {
     "name": "stderr",
     "output_type": "stream",
     "text": [
      "Evaluating:   0%|          | 0/1714 [00:00<?, ?it/s]"
     ]
    },
    {
     "name": "stderr",
     "output_type": "stream",
     "text": [
      "                                                               \r"
     ]
    },
    {
     "name": "stdout",
     "output_type": "stream",
     "text": [
      "Confusion Matrix:\n",
      "[[48 19]\n",
      " [14 64]]\n"
     ]
    },
    {
     "ename": "RuntimeError",
     "evalue": "No mappable was found to use for colorbar creation. First define a mappable such as an image (with imshow) or a contour set (with contourf).",
     "output_type": "error",
     "traceback": [
      "\u001b[0;31m---------------------------------------------------------------------------\u001b[0m",
      "\u001b[0;31mRuntimeError\u001b[0m                              Traceback (most recent call last)",
      "Cell \u001b[0;32mIn[10], line 14\u001b[0m\n\u001b[1;32m     11\u001b[0m \u001b[38;5;28mprint\u001b[39m(\u001b[38;5;124m\"\u001b[39m\u001b[38;5;124mConfusion Matrix:\u001b[39m\u001b[38;5;124m\"\u001b[39m)\n\u001b[1;32m     12\u001b[0m \u001b[38;5;28mprint\u001b[39m(confusion_matrix)\n\u001b[0;32m---> 14\u001b[0m \u001b[43mplot_confusion_matrix\u001b[49m\u001b[43m(\u001b[49m\n\u001b[1;32m     15\u001b[0m \u001b[43m    \u001b[49m\u001b[43mconfusion_matrix\u001b[49m\u001b[43m,\u001b[49m\n\u001b[1;32m     16\u001b[0m \u001b[43m    \u001b[49m\u001b[43mclasses\u001b[49m\u001b[38;5;241;43m=\u001b[39;49m\u001b[43m[\u001b[49m\u001b[38;5;124;43m'\u001b[39;49m\u001b[38;5;124;43m来\u001b[39;49m\u001b[38;5;124;43m'\u001b[39;49m\u001b[43m,\u001b[49m\u001b[43m \u001b[49m\u001b[38;5;124;43m'\u001b[39;49m\u001b[38;5;124;43m來\u001b[39;49m\u001b[38;5;124;43m'\u001b[39;49m\u001b[43m]\u001b[49m\u001b[43m,\u001b[49m\n\u001b[1;32m     17\u001b[0m \u001b[43m    \u001b[49m\u001b[43mtitle\u001b[49m\u001b[38;5;241;43m=\u001b[39;49m\u001b[38;5;124;43m'\u001b[39;49m\u001b[38;5;124;43mConfusion Matrix between 来 and 來\u001b[39;49m\u001b[38;5;124;43m'\u001b[39;49m\n\u001b[1;32m     18\u001b[0m \u001b[43m)\u001b[49m\n",
      "Cell \u001b[0;32mIn[9], line 37\u001b[0m, in \u001b[0;36mplot_confusion_matrix\u001b[0;34m(cm, classes, title, cmap)\u001b[0m\n\u001b[1;32m     35\u001b[0m \u001b[38;5;66;03m# plt.imshow(cm, interpolation='nearest', cmap=cmap)\u001b[39;00m\n\u001b[1;32m     36\u001b[0m plt\u001b[38;5;241m.\u001b[39mtitle(title)\n\u001b[0;32m---> 37\u001b[0m \u001b[43mplt\u001b[49m\u001b[38;5;241;43m.\u001b[39;49m\u001b[43mcolorbar\u001b[49m\u001b[43m(\u001b[49m\u001b[43m)\u001b[49m\n\u001b[1;32m     38\u001b[0m tick_marks \u001b[38;5;241m=\u001b[39m np\u001b[38;5;241m.\u001b[39marange(\u001b[38;5;28mlen\u001b[39m(classes))\n\u001b[1;32m     39\u001b[0m plt\u001b[38;5;241m.\u001b[39mxticks(tick_marks, classes, rotation\u001b[38;5;241m=\u001b[39m\u001b[38;5;241m45\u001b[39m)\n",
      "File \u001b[0;32m~/Bachelor_work/bachelor_env/lib/python3.10/site-packages/matplotlib/pyplot.py:2512\u001b[0m, in \u001b[0;36mcolorbar\u001b[0;34m(mappable, cax, ax, **kwargs)\u001b[0m\n\u001b[1;32m   2510\u001b[0m     mappable \u001b[38;5;241m=\u001b[39m gci()\n\u001b[1;32m   2511\u001b[0m     \u001b[38;5;28;01mif\u001b[39;00m mappable \u001b[38;5;129;01mis\u001b[39;00m \u001b[38;5;28;01mNone\u001b[39;00m:\n\u001b[0;32m-> 2512\u001b[0m         \u001b[38;5;28;01mraise\u001b[39;00m \u001b[38;5;167;01mRuntimeError\u001b[39;00m(\u001b[38;5;124m'\u001b[39m\u001b[38;5;124mNo mappable was found to use for colorbar \u001b[39m\u001b[38;5;124m'\u001b[39m\n\u001b[1;32m   2513\u001b[0m                            \u001b[38;5;124m'\u001b[39m\u001b[38;5;124mcreation. First define a mappable such as \u001b[39m\u001b[38;5;124m'\u001b[39m\n\u001b[1;32m   2514\u001b[0m                            \u001b[38;5;124m'\u001b[39m\u001b[38;5;124man image (with imshow) or a contour set (\u001b[39m\u001b[38;5;124m'\u001b[39m\n\u001b[1;32m   2515\u001b[0m                            \u001b[38;5;124m'\u001b[39m\u001b[38;5;124mwith contourf).\u001b[39m\u001b[38;5;124m'\u001b[39m)\n\u001b[1;32m   2516\u001b[0m ret \u001b[38;5;241m=\u001b[39m gcf()\u001b[38;5;241m.\u001b[39mcolorbar(mappable, cax\u001b[38;5;241m=\u001b[39mcax, ax\u001b[38;5;241m=\u001b[39max, \u001b[38;5;241m*\u001b[39m\u001b[38;5;241m*\u001b[39mkwargs)\n\u001b[1;32m   2517\u001b[0m \u001b[38;5;28;01mreturn\u001b[39;00m ret\n",
      "\u001b[0;31mRuntimeError\u001b[0m: No mappable was found to use for colorbar creation. First define a mappable such as an image (with imshow) or a contour set (with contourf)."
     ]
    },
    {
     "name": "stderr",
     "output_type": "stream",
     "text": [
      "/home/beav3r/Bachelor_work/bachelor_env/lib/python3.10/site-packages/IPython/core/events.py:82: UserWarning: Glyph 26469 (\\N{CJK UNIFIED IDEOGRAPH-6765}) missing from font(s) DejaVu Sans.\n",
      "  func(*args, **kwargs)\n",
      "/home/beav3r/Bachelor_work/bachelor_env/lib/python3.10/site-packages/IPython/core/events.py:82: UserWarning: Glyph 20358 (\\N{CJK UNIFIED IDEOGRAPH-4F86}) missing from font(s) DejaVu Sans.\n",
      "  func(*args, **kwargs)\n",
      "/home/beav3r/Bachelor_work/bachelor_env/lib/python3.10/site-packages/IPython/core/pylabtools.py:170: UserWarning: Glyph 26469 (\\N{CJK UNIFIED IDEOGRAPH-6765}) missing from font(s) DejaVu Sans.\n",
      "  fig.canvas.print_figure(bytes_io, **kw)\n",
      "/home/beav3r/Bachelor_work/bachelor_env/lib/python3.10/site-packages/IPython/core/pylabtools.py:170: UserWarning: Glyph 20358 (\\N{CJK UNIFIED IDEOGRAPH-4F86}) missing from font(s) DejaVu Sans.\n",
      "  fig.canvas.print_figure(bytes_io, **kw)\n"
     ]
    },
    {
     "data": {
      "image/png": "[encoded data removed]",
      "text/plain": [
       "<Figure size 800x600 with 1 Axes>"
      ]
     },
     "metadata": {},
     "output_type": "display_data"
    }
   ],
   "source": [
    "# Define class labels\n",
    "unicode_class1 = 'U+6765'  # Folder name for U+6765, 来\n",
    "unicode_class2 = 'U+4F86'  # Folder name for U+4F86, 來\n",
    "\n",
    "# Map class labels to indices using full_dataset.class_to_idx\n",
    "class1 = full_dataset.class_to_idx[unicode_class1]\n",
    "class2 = full_dataset.class_to_idx[unicode_class2]\n",
    "\n",
    "# Call and plot the confusion matrix\n",
    "confusion_matrix = create_confusion_matrix(model, testloader, class1, class2)\n",
    "print(\"Confusion Matrix:\")\n",
    "print(confusion_matrix)"
   ]
  },
  {
   "cell_type": "code",
   "execution_count": 16,
   "id": "7f83d557",
   "metadata": {},
   "outputs": [
    {
     "name": "stderr",
     "output_type": "stream",
     "text": [
      "/tmp/ipykernel_160113/1424875319.py:45: UserWarning: Glyph 26469 (\\N{CJK UNIFIED IDEOGRAPH-6765}) missing from font(s) DejaVu Sans.\n",
      "  plt.tight_layout()\n",
      "/tmp/ipykernel_160113/1424875319.py:45: UserWarning: Glyph 20358 (\\N{CJK UNIFIED IDEOGRAPH-4F86}) missing from font(s) DejaVu Sans.\n",
      "  plt.tight_layout()\n",
      "/tmp/ipykernel_160113/1424875319.py:48: UserWarning: Glyph 26469 (\\N{CJK UNIFIED IDEOGRAPH-6765}) missing from font(s) DejaVu Sans.\n",
      "  plt.savefig('confusion_matrix_between_来_and_來.png')\n",
      "/tmp/ipykernel_160113/1424875319.py:48: UserWarning: Glyph 20358 (\\N{CJK UNIFIED IDEOGRAPH-4F86}) missing from font(s) DejaVu Sans.\n",
      "  plt.savefig('confusion_matrix_between_来_and_來.png')\n",
      "/home/beav3r/Bachelor_work/bachelor_env/lib/python3.10/site-packages/IPython/core/pylabtools.py:170: UserWarning: Glyph 26469 (\\N{CJK UNIFIED IDEOGRAPH-6765}) missing from font(s) DejaVu Sans.\n",
      "  fig.canvas.print_figure(bytes_io, **kw)\n",
      "/home/beav3r/Bachelor_work/bachelor_env/lib/python3.10/site-packages/IPython/core/pylabtools.py:170: UserWarning: Glyph 20358 (\\N{CJK UNIFIED IDEOGRAPH-4F86}) missing from font(s) DejaVu Sans.\n",
      "  fig.canvas.print_figure(bytes_io, **kw)\n"
     ]
    },
    {
     "data": {
      "image/png": "[encoded data removed]",
      "text/plain": [
       "<Figure size 800x600 with 2 Axes>"
      ]
     },
     "metadata": {},
     "output_type": "display_data"
    }
   ],
   "source": [
    "plot_confusion_matrix(\n",
    "    confusion_matrix,\n",
    "    classes=['来', '來'],\n",
    "    title='Confusion Matrix between 来 and 來'\n",
    ")"
   ]
  },
  {
   "cell_type": "markdown",
   "id": "b2f68a2c",
   "metadata": {},
   "source": [
    "# Confindence interval and p-value"
   ]
  },
  {
   "cell_type": "code",
   "execution_count": 7,
   "id": "404a0740",
   "metadata": {},
   "outputs": [],
   "source": [
    "# Dataloaders for 150 classes\n",
    "trainloader_150, testloader_150, full_dataset_150 = get_dataloaders(batch_size=16, classamount=150, train_test_indices_path=\"/mnt/d/Bachelor_work/data_for_model/train_test_indices_150.pkl\")"
   ]
  },
  {
   "cell_type": "code",
   "execution_count": 8,
   "id": "bcce344b",
   "metadata": {},
   "outputs": [],
   "source": [
    "# Dataloaders for 200 classes\n",
    "trainloader_200, testloader_200, full_dataset_200 = get_dataloaders(batch_size=16, classamount=200, train_test_indices_path=\"/mnt/d/Bachelor_work/data_for_model/train_test_indices_200.pkl\")"
   ]
  },
  {
   "cell_type": "code",
   "execution_count": 9,
   "id": "3a22163f",
   "metadata": {},
   "outputs": [],
   "source": [
    "# Dataloaders for 300 classes\n",
    "trainloader_300, testloader_300, full_dataset_300 = get_dataloaders(batch_size=16, classamount=300, train_test_indices_path=\"/mnt/d/Bachelor_work/data_for_model/train_test_indices_300.pkl\")"
   ]
  },
  {
   "cell_type": "code",
   "execution_count": 15,
   "id": "88fc72ef",
   "metadata": {},
   "outputs": [
    {
     "name": "stdout",
     "output_type": "stream",
     "text": [
      "Number of samples in 150 classes: 21180\n",
      "Number of samples in 200 classes: 23708\n",
      "Number of samples in 300 classes: 27418\n"
     ]
    }
   ],
   "source": [
    "# n_samples for 150, 200, 300\n",
    "n_samples_150 = len(testloader_150.dataset)\n",
    "n_samples_200 = len(testloader_200.dataset)\n",
    "n_samples_300 = len(testloader_300.dataset)\n",
    "\n",
    "print(f\"Number of samples in 150 classes: {n_samples_150}\")\n",
    "print(f\"Number of samples in 200 classes: {n_samples_200}\")\n",
    "print(f\"Number of samples in 300 classes: {n_samples_300}\")\n",
    "\n",
    "# Accuracies\n",
    "acc_baseline_150 = 0.9643\n",
    "acc_mine_150 = 0.9794\n",
    "acc_mine_200 = 0.9792\n",
    "acc_mine_300 = 0.9762"
   ]
  },
  {
   "cell_type": "code",
   "execution_count": 19,
   "id": "856a6a89",
   "metadata": {},
   "outputs": [],
   "source": [
    "def accuracy_significance_test(acc1, acc2, n_samples, alpha=0.05):\n",
    "    \"\"\"\n",
    "    Test if accuracy difference is statistically significant\n",
    "    acc1: accuracy of your model\n",
    "    acc2: accuracy of baseline model\n",
    "    n_samples: number of test samples\n",
    "    \"\"\"\n",
    "    # Convert accuracies to counts\n",
    "    correct1 = int(acc1 * n_samples)\n",
    "    correct2 = int(acc2 * n_samples)\n",
    "    \n",
    "    # Perform binomial test\n",
    "    p_value = binomtest(correct1, n=n_samples, p=acc2)\n",
    "    print(f\"Full info p-value: {p_value}\")\n",
    "    \n",
    "    return {\n",
    "        'p_value': p_value.pvalue,\n",
    "        'significant': p_value.pvalue < alpha,\n",
    "        'correct_predictions_yours': correct1,\n",
    "        'correct_predictions_baseline': correct2\n",
    "    }"
   ]
  },
  {
   "cell_type": "code",
   "execution_count": 25,
   "id": "d2f3c17d",
   "metadata": {},
   "outputs": [
    {
     "name": "stdout",
     "output_type": "stream",
     "text": [
      "Full info p-value: BinomTestResult(k=20743, n=21180, alternative='two-sided', statistic=0.9793673276676109, pvalue=2.0502465239492047e-37)\n",
      "p-value: 0.000000\n",
      "Statistically significant: True\n"
     ]
    }
   ],
   "source": [
    "result = accuracy_significance_test(\n",
    "    acc1=acc_mine_150,  # Your model's accuracy\n",
    "    acc2=acc_baseline_150,  # Baseline accuracy\n",
    "    n_samples=n_samples_150  # Total test samples\n",
    ")\n",
    "\n",
    "print(f\"p-value: {result['p_value']:.6f}\")\n",
    "print(f\"Statistically significant: {result['significant']}\")"
   ]
  },
  {
   "cell_type": "code",
   "execution_count": 21,
   "id": "6aeacefa",
   "metadata": {},
   "outputs": [],
   "source": [
    "def accuracy_confidence_interval(accuracy, n_samples, confidence=0.95):\n",
    "    \"\"\"\n",
    "    Calculate confidence interval for accuracy\n",
    "    \"\"\"\n",
    "    z = norm.ppf((1 + confidence) / 2)\n",
    "    std_err = np.sqrt((accuracy * (1 - accuracy)) / n_samples)\n",
    "    margin = z * std_err\n",
    "    \n",
    "    return (max(0, accuracy - margin), min(1, accuracy + margin))"
   ]
  },
  {
   "cell_type": "code",
   "execution_count": 24,
   "id": "a401c053",
   "metadata": {},
   "outputs": [
    {
     "name": "stdout",
     "output_type": "stream",
     "text": [
      "Your model that classifies 150 classes: 0.9794 (95% CI: 0.9775-0.9813)\n",
      "Your model that classifies 200 classes: 0.9792 (95% CI: 0.9774-0.9810)\n",
      "Your model that classifies 300 classes: 0.9762 (95% CI: 0.9744-0.9780)\n",
      "Baseline model that classifies 150 classes: 0.9643 (95% CI: 0.9618-0.9668)\n"
     ]
    }
   ],
   "source": [
    "# Example\n",
    "# Calculate confidence intervals for your models, 150, 200, 300\n",
    "ci_yours_150 = accuracy_confidence_interval(acc_mine_150, n_samples_150)\n",
    "ci_yours_200 = accuracy_confidence_interval(acc_mine_200, n_samples_200)\n",
    "ci_yours_300 = accuracy_confidence_interval(acc_mine_300, n_samples_300)\n",
    "ci_baseline_150 = accuracy_confidence_interval(acc_baseline_150, n_samples_150)\n",
    "\n",
    "print(f\"Your model that classifies 150 classes: {acc_mine_150:.4f} (95% CI: {ci_yours_150[0]:.4f}-{ci_yours_150[1]:.4f})\")\n",
    "print(f\"Your model that classifies 200 classes: {acc_mine_200:.4f} (95% CI: {ci_yours_200[0]:.4f}-{ci_yours_200[1]:.4f})\")\n",
    "print(f\"Your model that classifies 300 classes: {acc_mine_300:.4f} (95% CI: {ci_yours_300[0]:.4f}-{ci_yours_300[1]:.4f})\")\n",
    "print(f\"Baseline model that classifies 150 classes: {acc_baseline_150:.4f} (95% CI: {ci_baseline_150[0]:.4f}-{ci_baseline_150[1]:.4f})\")"
   ]
  }
 ],
 "metadata": {
  "kernelspec": {
   "display_name": "bachelor_env",
   "language": "python",
   "name": "python3"
  },
  "language_info": {
   "codemirror_mode": {
    "name": "ipython",
    "version": 3
   },
   "file_extension": ".py",
   "mimetype": "text/x-python",
   "name": "python",
   "nbconvert_exporter": "python",
   "pygments_lexer": "ipython3",
   "version": "3.10.12"
  }
 },
 "nbformat": 4,
 "nbformat_minor": 5
}
