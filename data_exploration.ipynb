{
 "cells": [
  {
   "cell_type": "markdown",
   "metadata": {},
   "source": [
    "# Imports"
   ]
  },
  {
   "cell_type": "code",
   "execution_count": 43,
   "metadata": {},
   "outputs": [],
   "source": [
    "import deeplake\n",
    "import cv2\n",
    "import os"
   ]
  },
  {
   "cell_type": "code",
   "execution_count": 10,
   "metadata": {},
   "outputs": [
    {
     "name": "stderr",
     "output_type": "stream",
     "text": [
      "|"
     ]
    },
    {
     "name": "stdout",
     "output_type": "stream",
     "text": [
      "Opening dataset in read-only mode as you don't have write permissions.\n"
     ]
    },
    {
     "name": "stderr",
     "output_type": "stream",
     "text": [
      "|"
     ]
    },
    {
     "name": "stdout",
     "output_type": "stream",
     "text": [
      "This dataset can be visualized in Jupyter Notebook by ds.visualize() or at https://app.activeloop.ai/activeloop/kuzushiji-kanji\n",
      "\n"
     ]
    },
    {
     "name": "stderr",
     "output_type": "stream",
     "text": [
      "\\"
     ]
    },
    {
     "name": "stdout",
     "output_type": "stream",
     "text": [
      "hub://activeloop/kuzushiji-kanji loaded successfully.\n",
      "\n"
     ]
    },
    {
     "name": "stderr",
     "output_type": "stream",
     "text": [
      " "
     ]
    }
   ],
   "source": [
    "ds_downloaded = deeplake.load(\"hub://activeloop/kuzushiji-kanji\")"
   ]
  },
  {
   "cell_type": "code",
   "execution_count": 11,
   "metadata": {},
   "outputs": [
    {
     "data": {
      "text/plain": [
       "deeplake.core.dataset.deeplake_cloud_dataset.DeepLakeCloudDataset"
      ]
     },
     "execution_count": 11,
     "metadata": {},
     "output_type": "execute_result"
    }
   ],
   "source": [
    "type(ds_downloaded)"
   ]
  },
  {
   "cell_type": "code",
   "execution_count": 12,
   "metadata": {},
   "outputs": [
    {
     "data": {
      "text/html": [
       "\n",
       "        <iframe\n",
       "            width=\"90%\"\n",
       "            height=\"800\"\n",
       "            src=\"https://app.activeloop.ai/visualizer/hub?url=hub://activeloop/kuzushiji-kanji&token=PUBLIC_TOKEN_______________________________________________________________________________________________________________________________________________________\"\n",
       "            frameborder=\"0\"\n",
       "            allowfullscreen\n",
       "            \n",
       "        ></iframe>\n",
       "        "
      ],
      "text/plain": [
       "<IPython.lib.display.IFrame at 0x7f6101f97580>"
      ]
     },
     "metadata": {},
     "output_type": "display_data"
    }
   ],
   "source": [
    "ds_downloaded.visualize()"
   ]
  },
  {
   "cell_type": "code",
   "execution_count": 13,
   "metadata": {},
   "outputs": [
    {
     "data": {
      "text/plain": [
       "Dataset(path='hub://activeloop/kuzushiji-kanji', read_only=True, index=Index([0]), tensors=['images', 'labels'])"
      ]
     },
     "execution_count": 13,
     "metadata": {},
     "output_type": "execute_result"
    }
   ],
   "source": [
    "ds_downloaded[0]"
   ]
  },
  {
   "cell_type": "code",
   "execution_count": 42,
   "metadata": {},
   "outputs": [
    {
     "data": {
      "text/plain": [
       "(64, 64)"
      ]
     },
     "execution_count": 42,
     "metadata": {},
     "output_type": "execute_result"
    }
   ],
   "source": [
    "img0 = cv2.imread(\"/home/beav3r/Bachelor_work/Bachelor_work/data/追加/準備ができていない/Unicode/0.png\", cv2.IMREAD_GRAYSCALE)\n",
    "img1 = cv2.imread(\"/home/beav3r/Bachelor_work/Bachelor_work/data/追加/準備ができていない/Unicode/1.png\", cv2.IMREAD_GRAYSCALE)\n",
    "img_kkanji = cv2.imread(\"/home/beav3r/Bachelor_work/Bachelor_work/data/kkanji/kkanji2/U+4C61/e6eeb23552e1a21c.png\", cv2.IMREAD_GRAYSCALE)\n",
    "img0 = cv2.resize(img0, (64, 64))\n",
    "img1 = cv2.resize(img1, (64, 64))\n",
    "img0 = img0 / 255\n",
    "img1 = img1 / 255\n",
    "\n",
    "# Morphology opening and closing\n",
    "kernel = cv2.getStructuringElement(cv2.MORPH_RECT, (3, 3))\n",
    "img_kkanji_opened = cv2.morphologyEx(img_kkanji, cv2.MORPH_OPEN, kernel)\n",
    "img_kkanji_closed = cv2.morphologyEx(img_kkanji_opened, cv2.MORPH_CLOSE, kernel)\n",
    "\n",
    "# Save the thresholded image\n",
    "cv2.imwrite(\"/home/beav3r/Bachelor_work/Bachelor_work/data/追加/準備ができていない/Unicode/thresholdedTest.png\", img_kkanji_closed)\n",
    "\n",
    "img_kkanji_closed.shape"
   ]
  },
  {
   "cell_type": "code",
   "execution_count": 46,
   "metadata": {},
   "outputs": [],
   "source": [
    "# Count amount of files in subsets and write into txt file\n",
    "\n",
    "path = \"/home/beav3r/Bachelor_work/Bachelor_work/data/kkanji/kkanji2\"\n",
    "\n",
    "def count_files(path):\n",
    "    for root, dirs, files in os.walk(path):\n",
    "        for dir in dirs:\n",
    "            #Save to txt file\n",
    "            with open(\"/home/beav3r/Bachelor_work/Bachelor_work/data/kkanji_classes_distribution.txt\", \"a\") as file:\n",
    "                file.write(dir + \" \" + str(len(os.listdir(os.path.join(root, dir)))) + \"\\n\")\n",
    "        \n",
    "count_files(path)\n",
    "\n"
   ]
  },
  {
   "cell_type": "code",
   "execution_count": null,
   "metadata": {},
   "outputs": [],
   "source": [
    "# Sort the classes by amount of files\n",
    "with open(\"/home/beav3r/Bachelor_work/Bachelor_work/kkanji_classes_distribution.txt\", \"r\") as file:\n",
    "    lines = file.readlines()\n",
    "    lines.sort(key=lambda x: int(x.split()[1]), reverse=True)\n",
    "    with open(\"/home/beav3r/Bachelor_work/Bachelor_work/kkanji_classes_distribution_sorted.txt\", \"w\") as file:\n",
    "        for line in lines:\n",
    "            file.write(line)"
   ]
  },
  {
   "cell_type": "code",
   "execution_count": 47,
   "metadata": {},
   "outputs": [],
   "source": [
    "# Remote duplicates from the sorted file\n",
    "with open(\"/home/beav3r/Bachelor_work/Bachelor_work/kkanji_classes_distribution_sorted.txt\", \"r\") as file:\n",
    "    lines = file.readlines()\n",
    "    lines = list(dict.fromkeys(lines))\n",
    "    with open(\"/home/beav3r/Bachelor_work/Bachelor_work/kkanji_classes_distribution_sorted.txt\", \"w\") as file:\n",
    "        for line in lines:\n",
    "            file.write(line)"
   ]
  }
 ],
 "metadata": {
  "kernelspec": {
   "display_name": ".venv",
   "language": "python",
   "name": "python3"
  },
  "language_info": {
   "codemirror_mode": {
    "name": "ipython",
    "version": 3
   },
   "file_extension": ".py",
   "mimetype": "text/x-python",
   "name": "python",
   "nbconvert_exporter": "python",
   "pygments_lexer": "ipython3",
   "version": "3.10.12"
  }
 },
 "nbformat": 4,
 "nbformat_minor": 2
}
