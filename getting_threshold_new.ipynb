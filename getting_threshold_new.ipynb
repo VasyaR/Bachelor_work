{
 "cells": [
  {
   "cell_type": "markdown",
   "metadata": {},
   "source": [
    "# Imports + general"
   ]
  },
  {
   "cell_type": "code",
   "execution_count": null,
   "metadata": {
    "execution": {
     "iopub.execute_input": "2024-12-25T13:18:30.688654Z",
     "iopub.status.busy": "2024-12-25T13:18:30.688430Z",
     "iopub.status.idle": "2024-12-25T13:18:30.692352Z",
     "shell.execute_reply": "2024-12-25T13:18:30.691631Z",
     "shell.execute_reply.started": "2024-12-25T13:18:30.688635Z"
    },
    "trusted": true
   },
   "outputs": [],
   "source": [
    "# !nvidia-smi\n"
   ]
  },
  {
   "cell_type": "code",
   "execution_count": 2,
   "metadata": {
    "execution": {
     "iopub.execute_input": "2024-12-25T13:18:30.693570Z",
     "iopub.status.busy": "2024-12-25T13:18:30.693298Z",
     "iopub.status.idle": "2024-12-25T13:18:30.719535Z",
     "shell.execute_reply": "2024-12-25T13:18:30.718674Z",
     "shell.execute_reply.started": "2024-12-25T13:18:30.693545Z"
    },
    "trusted": true
   },
   "outputs": [],
   "source": [
    "# !kill -9 $(lsof /dev/nvidia* | awk '{print $2}' | tail -n +2)"
   ]
  },
  {
   "cell_type": "code",
   "execution_count": 3,
   "metadata": {
    "execution": {
     "iopub.execute_input": "2024-12-25T13:18:30.720775Z",
     "iopub.status.busy": "2024-12-25T13:18:30.720402Z",
     "iopub.status.idle": "2024-12-25T13:18:30.737459Z",
     "shell.execute_reply": "2024-12-25T13:18:30.735727Z",
     "shell.execute_reply.started": "2024-12-25T13:18:30.720746Z"
    },
    "trusted": true
   },
   "outputs": [],
   "source": [
    "import warnings\n",
    "warnings.filterwarnings(\"ignore\", category=UserWarning)"
   ]
  },
  {
   "cell_type": "code",
   "execution_count": 4,
   "metadata": {
    "execution": {
     "iopub.execute_input": "2024-12-25T13:18:30.740221Z",
     "iopub.status.busy": "2024-12-25T13:18:30.739824Z",
     "iopub.status.idle": "2024-12-25T13:18:30.871947Z",
     "shell.execute_reply": "2024-12-25T13:18:30.870975Z",
     "shell.execute_reply.started": "2024-12-25T13:18:30.740047Z"
    },
    "trusted": true
   },
   "outputs": [],
   "source": [
    "import torch\n",
    "import torch.nn as nn\n",
    "import torch.nn.functional as F\n",
    "import pickle\n",
    "\n",
    "import numpy as np\n",
    "import pandas as pd\n",
    "import random\n",
    "import os\n",
    "\n",
    "from tqdm import tqdm\n",
    "\n",
    "import torchvision\n",
    "import torchvision.models as models\n",
    "from torchvision import transforms, datasets\n",
    "import torch.utils.data as data\n",
    "import torchvision.datasets\n",
    "from torch.utils.data.sampler import WeightedRandomSampler\n",
    "\n",
    "from sklearn.model_selection import train_test_split\n",
    "from sklearn.metrics import average_precision_score, precision_recall_fscore_support, confusion_matrix, classification_report, accuracy_score\n",
    "\n",
    "from torchvision.models.resnet import conv3x3, _resnet, ResNet18_Weights\n",
    "\n",
    "import matplotlib.pyplot as plt\n",
    "from PIL import ImageOps, Image\n",
    "\n",
    "random.seed(0)\n",
    "np.random.seed(0)\n",
    "torch.manual_seed(0)\n",
    "torch.cuda.manual_seed(0)\n",
    "torch.backends.cudnn.deterministic = True\n",
    "\n",
    "# device = 'cpu' \n",
    "device = torch.device('cuda:0' if torch.cuda.is_available() else 'cpu')\n",
    "\n",
    "# Paths to data\n",
    "data_folder = \"/kaggle/input/kkanji-known-unknown/kkanji2_known_unknown/kkanji2_known_unknown\""
   ]
  },
  {
   "cell_type": "code",
   "execution_count": 5,
   "metadata": {
    "execution": {
     "iopub.execute_input": "2024-12-25T13:18:30.873351Z",
     "iopub.status.busy": "2024-12-25T13:18:30.873052Z",
     "iopub.status.idle": "2024-12-25T13:18:30.879744Z",
     "shell.execute_reply": "2024-12-25T13:18:30.878837Z",
     "shell.execute_reply.started": "2024-12-25T13:18:30.873321Z"
    },
    "trusted": true
   },
   "outputs": [
    {
     "name": "stdout",
     "output_type": "stream",
     "text": [
      "Directory created at: /kaggle/working/threshold_stuff\n"
     ]
    }
   ],
   "source": [
    "# Define the path for the new directory\n",
    "directory_path = '/kaggle/working/threshold_stuff'\n",
    "\n",
    "# Create the directory\n",
    "os.makedirs(directory_path, exist_ok=True)\n",
    "print(f\"Directory created at: {directory_path}\")"
   ]
  },
  {
   "cell_type": "code",
   "execution_count": 6,
   "metadata": {
    "execution": {
     "iopub.execute_input": "2024-12-25T13:18:30.884294Z",
     "iopub.status.busy": "2024-12-25T13:18:30.884005Z",
     "iopub.status.idle": "2024-12-25T13:18:30.893078Z",
     "shell.execute_reply": "2024-12-25T13:18:30.892227Z",
     "shell.execute_reply.started": "2024-12-25T13:18:30.884267Z"
    },
    "trusted": true
   },
   "outputs": [],
   "source": [
    "# Clear CUDA cache\n",
    "# torch.cuda.empty_cache()\n",
    "# torch.cuda.reset_peak_memory_stats()"
   ]
  },
  {
   "cell_type": "markdown",
   "metadata": {},
   "source": [
    "# PreactBasicBlock"
   ]
  },
  {
   "cell_type": "code",
   "execution_count": 7,
   "metadata": {
    "execution": {
     "iopub.execute_input": "2024-12-25T13:18:30.895140Z",
     "iopub.status.busy": "2024-12-25T13:18:30.894853Z",
     "iopub.status.idle": "2024-12-25T13:18:30.906785Z",
     "shell.execute_reply": "2024-12-25T13:18:30.905902Z",
     "shell.execute_reply.started": "2024-12-25T13:18:30.895111Z"
    },
    "trusted": true
   },
   "outputs": [],
   "source": [
    "class PreactBasicBlock(nn.Module):\n",
    "    expansion = 1\n",
    "    def __init__(self, inplanes, planes, stride=1, downsample=None, groups=1,\n",
    "                 base_width=64, dilation=1, norm_layer=None):\n",
    "        super(PreactBasicBlock, self).__init__()\n",
    "\n",
    "        if norm_layer is None:\n",
    "            norm_layer = nn.BatchNorm2d\n",
    "\n",
    "        if groups != 1 or base_width != 64:\n",
    "            raise ValueError('BasicBlock only supports groups=1 and base_width=64')\n",
    "\n",
    "        if dilation > 1:\n",
    "            raise NotImplementedError(\"Dilation > 1 not supported in BasicBlock\")\n",
    "\n",
    "        # Both self.conv1 and self.downsample layers downsample the input when stride != 1\n",
    "        self.bn1 = nn.BatchNorm2d(inplanes)\n",
    "        self.relu1 = nn.ReLU(inplace=True)\n",
    "        self.conv1 = conv3x3(inplanes, planes, stride)\n",
    "\n",
    "        self.bn2 = nn.BatchNorm2d(planes)\n",
    "        self.relu2 = nn.ReLU(inplace=True)\n",
    "        self.conv2 = conv3x3(planes, planes)\n",
    "\n",
    "        self.downsample = downsample\n",
    "        self.stride = stride\n",
    "\n",
    "    def forward(self, x):\n",
    "        identity = x\n",
    "\n",
    "        out = self.bn1(x)\n",
    "        out = self.relu1(out)\n",
    "        out = self.conv1(out)\n",
    "\n",
    "        out = self.bn2(out)\n",
    "        out = self.relu2(out)\n",
    "        out = self.conv2(out)\n",
    "\n",
    "        if self.downsample is not None:\n",
    "            identity = self.downsample(x)\n",
    "\n",
    "        out += identity\n",
    "\n",
    "        return out\n",
    "\n",
    "    # Check what is model params and conv3x3. Also normlayer is not used."
   ]
  },
  {
   "cell_type": "markdown",
   "metadata": {},
   "source": [
    "# Cycle func"
   ]
  },
  {
   "cell_type": "code",
   "execution_count": 8,
   "metadata": {
    "execution": {
     "iopub.execute_input": "2024-12-25T13:18:30.907854Z",
     "iopub.status.busy": "2024-12-25T13:18:30.907573Z",
     "iopub.status.idle": "2024-12-25T13:18:30.920114Z",
     "shell.execute_reply": "2024-12-25T13:18:30.919278Z",
     "shell.execute_reply.started": "2024-12-25T13:18:30.907833Z"
    },
    "trusted": true
   },
   "outputs": [],
   "source": [
    "class BinaryThresholdFunction(torch.autograd.Function):\n",
    "    @staticmethod\n",
    "    def forward(ctx, confidences, threshold):\n",
    "        ctx.save_for_backward(confidences, threshold)\n",
    "        return (confidences > threshold).float()\n",
    "\n",
    "    @staticmethod\n",
    "    def backward(ctx, grad_output):\n",
    "        confidences, threshold = ctx.saved_tensors\n",
    "        grad_confidences = grad_output.clone()\n",
    "        grad_threshold = -grad_output.clone() * (confidences > threshold).float()\n",
    "        return grad_confidences, grad_threshold\n",
    "\n",
    "binary_threshold = BinaryThresholdFunction.apply\n",
    "\n",
    "def cycle(model, threshold, loader, criterion, train=False, optimizer=None):\n",
    "    model.eval()\n",
    "    overall_loss = []\n",
    "    overall_accuracy = []\n",
    "    dataloader_iterator = iter(loader)\n",
    "\n",
    "    if train:\n",
    "        threshold.requires_grad = True\n",
    "    else:\n",
    "        threshold.requires_grad = False\n",
    "\n",
    "    for batch_id in tqdm(range(len(loader)), desc=f\"Batches train = {train}\"):   \n",
    "        try:\n",
    "            X_batch, y_batch = next(dataloader_iterator)\n",
    "\n",
    "        except:\n",
    "            dataloader_iterator = iter(loader)\n",
    "            X_batch, y_batch = next(dataloader_iterator)\n",
    "    \n",
    "        X_batch = X_batch.to(device)\n",
    "        y_batch = y_batch.to(device)\n",
    "\n",
    "        if train:\n",
    "            optimizer.zero_grad()\n",
    "\n",
    "            preds = model(X_batch) \n",
    "            confidences = F.softmax(preds, dim=1).max(dim=1)[0]\n",
    "            \n",
    "            binary_predictions = binary_threshold(confidences, threshold)\n",
    "            loss = criterion(binary_predictions, y_batch.float())\n",
    "            \n",
    "            loss.backward()\n",
    "            optimizer.step()\n",
    "\n",
    "        else:\n",
    "            with torch.no_grad():\n",
    "                preds = model(X_batch) \n",
    "                confidences= F.softmax(preds, dim=1).max(dim=1)[0]\n",
    "\n",
    "                binary_predictions = binary_threshold(confidences, threshold)\n",
    "                loss = criterion(binary_predictions, y_batch.float())\n",
    "\n",
    "        overall_loss.append(loss.item())\n",
    "        accuracy = (binary_predictions == y_batch.float()).float().mean().item()\n",
    "        overall_accuracy.append(accuracy)\n",
    "\n",
    "    mean_loss = sum(overall_loss) / len(loader)\n",
    "    mean_accuracy = sum(overall_accuracy) / len(loader)\n",
    "    return mean_loss, mean_accuracy\n",
    "\n",
    "\n",
    "\n",
    "        "
   ]
  },
  {
   "cell_type": "markdown",
   "metadata": {},
   "source": [
    "# Dataloaders"
   ]
  },
  {
   "cell_type": "code",
   "execution_count": 9,
   "metadata": {
    "execution": {
     "iopub.execute_input": "2024-12-25T13:18:30.921319Z",
     "iopub.status.busy": "2024-12-25T13:18:30.921067Z",
     "iopub.status.idle": "2024-12-25T13:18:30.939536Z",
     "shell.execute_reply": "2024-12-25T13:18:30.938769Z",
     "shell.execute_reply.started": "2024-12-25T13:18:30.921299Z"
    },
    "trusted": true
   },
   "outputs": [],
   "source": [
    "# Dataset initialization\n",
    "def get_dataloaders(batch_size: int = 4096, train_test_indices_path: str = None):\n",
    "    # Define transformations\n",
    "    my_transform = transforms.Compose([\n",
    "                transforms.Grayscale(num_output_channels=3),\n",
    "                transforms.Resize(64),\n",
    "                transforms.ToTensor(),\n",
    "                transforms.Normalize([0.5, 0.5, 0.5], [0.5, 0.5, 0.5])  # Normalize each channel to (-1, 1)  # Normalize to (-1, 1)\n",
    "            ])\n",
    "        \n",
    "    full_dataset = datasets.ImageFolder(root=data_folder, transform=my_transform)\n",
    "\n",
    "    train_indices = []\n",
    "    test_indices = []\n",
    "    # Split dataset into training and testing sets\n",
    "\n",
    "    if train_test_indices_path is not None and os.path.exists(train_test_indices_path):\n",
    "        with open(train_test_indices_path, \"rb\") as f:\n",
    "            indices = pickle.load(f)\n",
    "            train_indices = indices[\"train_indices\"]\n",
    "            test_indices = indices[\"test_indices\"]\n",
    "                \n",
    "    else:\n",
    "        train_indices, test_indices = train_test_split(\n",
    "            list(range(len(full_dataset))),\n",
    "            test_size=0.3,\n",
    "            stratify=[label for _, label in full_dataset.samples]\n",
    "        )\n",
    "        \n",
    "        # Save indices\n",
    "        with open(train_test_indices_path, \"wb\") as f:\n",
    "            pickle.dump({\"train_indices\": train_indices, \"test_indices\": test_indices}, f)\n",
    "\n",
    "    train_dataset = data.Subset(full_dataset, train_indices)\n",
    "    test_dataset = data.Subset(full_dataset, test_indices)\n",
    "\n",
    "    # Create DataLoaders\n",
    "    trainloader = data.DataLoader(train_dataset, batch_size=batch_size, shuffle=False, num_workers=4)\n",
    "    testloader = data.DataLoader(test_dataset, batch_size=batch_size, shuffle=False, num_workers=4)\n",
    "\n",
    "    return trainloader, testloader, full_dataset"
   ]
  },
  {
   "cell_type": "markdown",
   "metadata": {},
   "source": [
    "# Getting stuff for training"
   ]
  },
  {
   "cell_type": "code",
   "execution_count": 10,
   "metadata": {
    "execution": {
     "iopub.execute_input": "2024-12-25T13:18:30.940777Z",
     "iopub.status.busy": "2024-12-25T13:18:30.940465Z",
     "iopub.status.idle": "2024-12-25T13:18:30.958419Z",
     "shell.execute_reply": "2024-12-25T13:18:30.957536Z",
     "shell.execute_reply.started": "2024-12-25T13:18:30.940748Z"
    },
    "trusted": true
   },
   "outputs": [],
   "source": [
    "def getting_stuff_for_training(pathes: dict = None, lr: float = 1e-3, scheduler_step_size: int = 10, scheduler_gamma: float = 0.1):    \n",
    "\n",
    "    stuff = {}\n",
    "    last_epoch = 0\n",
    "\n",
    "    if os.path.exists(pathes[\"last_epoch\"]):\n",
    "        last_epoch = np.load(pathes[\"last_epoch\"])\n",
    "    stuff[\"last_epoch\"] = last_epoch\n",
    "\n",
    "    model = _resnet(PreactBasicBlock, [2, 2, 2, 2], None, progress=False) # 'resnet18'\n",
    "    model.fc = nn.Linear(model.fc.in_features, 300)\n",
    "    \n",
    "    if os.path.exists(pathes[\"model\"]):\n",
    "        model.load_state_dict(torch.load(pathes[\"model\"]))\n",
    "    model = model.to(device)\n",
    "    stuff[\"model\"] = model\n",
    "\n",
    "    threshold = nn.Parameter(torch.tensor(0.9, requires_grad=True))\n",
    "    if os.path.exists(pathes[\"threshold\"]):\n",
    "        threshold = torch.load(pathes[\"threshold\"])\n",
    "    stuff[\"threshold\"] = threshold\n",
    "\n",
    "    optimizer = torch.optim.Adam([threshold], lr=lr) # , weight_decay=0.)\n",
    "    if os.path.exists(pathes[\"optimizer\"]):\n",
    "        optimizer.load_state_dict(torch.load(pathes[\"optimizer\"]))\n",
    "    stuff[\"optimizer\"] = optimizer\n",
    "\n",
    "    scheduler = torch.optim.lr_scheduler.StepLR(optimizer, step_size=scheduler_step_size, gamma=scheduler_gamma)\n",
    "    if os.path.exists(pathes[\"scheduler\"]):\n",
    "        scheduler.load_state_dict(torch.load(pathes[\"scheduler\"]))\n",
    "    stuff[\"scheduler\"] = scheduler\n",
    "\n",
    "    threshold_history = []\n",
    "    if os.path.exists(pathes[\"threshold_history\"]):\n",
    "        train_loss_history = list(np.load(pathes[\"threshold_history\"]))\n",
    "    stuff[\"threshold_history\"] = threshold_history\n",
    "\n",
    "    train_loss_history = []\n",
    "    if os.path.exists(pathes[\"train_loss_history\"]):\n",
    "        train_loss_history = list(np.load(pathes[\"train_loss_history\"]))\n",
    "    stuff[\"train_loss_history\"] = train_loss_history\n",
    "\n",
    "    train_accuracy_history = []\n",
    "    if os.path.exists(pathes[\"train_accuracy_history\"]):\n",
    "        train_accuracy_history = list(np.load(pathes[\"train_accuracy_history\"]))\n",
    "    stuff[\"train_accuracy_history\"] = train_accuracy_history\n",
    "\n",
    "    val_loss_history = []\n",
    "    if os.path.exists(pathes[\"val_loss_history\"]):\n",
    "        val_loss_history = list(np.load(pathes[\"val_loss_history\"]))\n",
    "    stuff[\"val_loss_history\"] = val_loss_history\n",
    "\n",
    "    val_accuracy_history = []\n",
    "    if os.path.exists(pathes[\"val_accuracy_history\"]):\n",
    "        val_accuracy_history = list(np.load(pathes[\"val_accuracy_history\"]))\n",
    "    stuff[\"val_accuracy_history\"] = val_accuracy_history\n",
    "\n",
    "    max_val_accuracy = 0\n",
    "    if os.path.exists(pathes[\"max_val_accuracy\"]):\n",
    "        max_val_accuracy = np.load(pathes[\"max_val_accuracy\"])\n",
    "    stuff[\"max_val_accuracy\"] = max_val_accuracy\n",
    "\n",
    "    early_stopping = 5\n",
    "    if os.path.exists(pathes[\"early_stopping\"]):\n",
    "        early_stopping = np.load(pathes[\"early_stopping\"])\n",
    "    stuff[\"early_stopping\"] = early_stopping\n",
    "\n",
    "    return stuff"
   ]
  },
  {
   "cell_type": "markdown",
   "metadata": {},
   "source": [
    "# Plot func"
   ]
  },
  {
   "cell_type": "code",
   "execution_count": 11,
   "metadata": {
    "execution": {
     "iopub.execute_input": "2024-12-25T13:18:30.959719Z",
     "iopub.status.busy": "2024-12-25T13:18:30.959417Z",
     "iopub.status.idle": "2024-12-25T13:18:30.974813Z",
     "shell.execute_reply": "2024-12-25T13:18:30.973930Z",
     "shell.execute_reply.started": "2024-12-25T13:18:30.959691Z"
    },
    "trusted": true
   },
   "outputs": [],
   "source": [
    "def custom_plot(train_data : list = None, val_data : list = None, title: str = None,  ylabel: str = None):\n",
    "    plt.plot(train_data, label=\"train\")\n",
    "    plt.plot(val_data, label=\"validation\")\n",
    "    plt.xlabel('Epochs')\n",
    "    plt.ylabel(ylabel)\n",
    "    plt.legend()\n",
    "    plt.title(title)\n",
    "    return"
   ]
  },
  {
   "cell_type": "code",
   "execution_count": 12,
   "metadata": {
    "execution": {
     "iopub.execute_input": "2024-12-25T13:18:30.975920Z",
     "iopub.status.busy": "2024-12-25T13:18:30.975638Z",
     "iopub.status.idle": "2024-12-25T13:18:30.984748Z",
     "shell.execute_reply": "2024-12-25T13:18:30.983933Z",
     "shell.execute_reply.started": "2024-12-25T13:18:30.975901Z"
    },
    "trusted": true
   },
   "outputs": [],
   "source": [
    "import matplotlib.pyplot as plt\n",
    "\n",
    "def custom_plot_threshold(\n",
    "    train_data: list = None,\n",
    "    val_data: list = None,\n",
    "    threshold_history: list = None,\n",
    "    title: str = None,\n",
    "    ylabel: str = None,\n",
    "):\n",
    "    if threshold_history is None:\n",
    "        raise ValueError(\"threshold_history parameter cannot be None.\")\n",
    "    if len(train_data) != len(threshold_history) or len(val_data) != len(threshold_history):\n",
    "        raise ValueError(\"train_data, val_data, and threshold_history must have the same length.\")\n",
    "    \n",
    "    plt.figure(figsize=(10, 6))\n",
    "    plt.plot(threshold_history, train_data, label=\"Train\", marker=\"o\")\n",
    "    plt.plot(threshold_history, val_data, label=\"Validation\", marker=\"o\")\n",
    "    \n",
    "    # Labeling the axes\n",
    "    plt.xlabel(\"Threshold Value\")\n",
    "    plt.ylabel(ylabel)\n",
    "    plt.title(title)\n",
    "    \n",
    "    # Ensure all ticks and data points are visible\n",
    "    plt.xticks(threshold_history, rotation=45)\n",
    "    plt.legend()\n",
    "    plt.grid(visible=True, linestyle=\"--\", alpha=0.7)\n",
    "    plt.tight_layout()\n",
    "    plt.show()\n"
   ]
  },
  {
   "cell_type": "markdown",
   "metadata": {},
   "source": [
    "# Create pathes vocabulary"
   ]
  },
  {
   "cell_type": "code",
   "execution_count": 13,
   "metadata": {
    "execution": {
     "iopub.execute_input": "2024-12-25T13:18:30.985880Z",
     "iopub.status.busy": "2024-12-25T13:18:30.985655Z",
     "iopub.status.idle": "2024-12-25T13:18:30.998458Z",
     "shell.execute_reply": "2024-12-25T13:18:30.997689Z",
     "shell.execute_reply.started": "2024-12-25T13:18:30.985850Z"
    },
    "trusted": true
   },
   "outputs": [],
   "source": [
    "def create_pathes_vocabulary(path : str = None):\n",
    "    pathes = {\"threshold\": f\"{path}/threshold.pth\", \"threshold_history\": f\"{path}/threshold_history.npy\", \"last_epoch\": f\"{path}/last_epoch.npy\", \"model\": f\"{path}/model.pth\", \"optimizer\": f\"{path}/optimizer.pth\", \n",
    "    \"scheduler\": f\"{path}/scheduler.pth\", \"train_loss_history\": f\"{path}/train_loss_history.npy\", \"train_accuracy_history\": f\"{path}/train_accuracy_history.npy\", \n",
    "    \"val_loss_history\": f\"{path}/val_loss_history.npy\", \"val_accuracy_history\": f\"{path}/val_accuracy_history.npy\", \n",
    "    \"max_val_accuracy\": f\"{path}/max_val_accuracy.npy\", \"early_stopping\": f\"{path}/early_stopping.npy\"}\n",
    "\n",
    "    return pathes\n",
    "    "
   ]
  },
  {
   "cell_type": "markdown",
   "metadata": {},
   "source": [
    "# Train loop"
   ]
  },
  {
   "cell_type": "code",
   "execution_count": 14,
   "metadata": {
    "execution": {
     "iopub.execute_input": "2024-12-25T13:18:30.999666Z",
     "iopub.status.busy": "2024-12-25T13:18:30.999377Z",
     "iopub.status.idle": "2024-12-25T13:18:31.013803Z",
     "shell.execute_reply": "2024-12-25T13:18:31.013078Z",
     "shell.execute_reply.started": "2024-12-25T13:18:30.999645Z"
    },
    "trusted": true
   },
   "outputs": [],
   "source": [
    "def train_loop(trainloader, testloader, stuff : dict = None, criterion=nn.BCELoss(), save_path : str = None, epochs : int = 100, model_name : str = None):\n",
    "\n",
    "    last_epoch = stuff[\"last_epoch\"]\n",
    "    epochs += last_epoch \n",
    "    threshold_history = stuff[\"threshold_history\"]\n",
    "\n",
    "    model = stuff[\"model\"]\n",
    "    threshold = stuff[\"threshold\"]\n",
    "    optimizer = stuff[\"optimizer\"]\n",
    "    scheduler = stuff[\"scheduler\"]\n",
    "\n",
    "    train_loss_history = stuff[\"train_loss_history\"]\n",
    "    train_accuracy_history = stuff[\"train_accuracy_history\"]\n",
    "\n",
    "    val_loss_history = stuff[\"val_loss_history\"]\n",
    "    val_accuracy_history = stuff[\"val_accuracy_history\"]\n",
    "\n",
    "    max_val_accuracy = stuff[\"max_val_accuracy\"]\n",
    "    early_stopping = stuff[\"early_stopping\"]\n",
    "\n",
    "    for epoch in tqdm(range(last_epoch, epochs)):\n",
    "\n",
    "        train_loss, train_accuracy = cycle(model, threshold, trainloader, criterion, train=True, optimizer=optimizer) #train(model, trainloader, criterion, optimizer, batch_size)\n",
    "        torch.cuda.empty_cache()\n",
    "        train_loss_history.append(train_loss)\n",
    "        train_accuracy_history.append(train_accuracy)\n",
    "\n",
    "        val_loss, val_accuracy = cycle(model, threshold, testloader, criterion) #validate(model, testloader, criterion, batch_size)\n",
    "        torch.cuda.empty_cache()\n",
    "        val_loss_history.append(val_loss)\n",
    "        val_accuracy_history.append(val_accuracy)\n",
    "\n",
    "        scheduler.step()\n",
    "\n",
    "        threshold_history.append(round(threshold.item(), 5))\n",
    "        print('Threshold value:', threshold_history[-1])\n",
    "        print('Epoch:', epoch+1)\n",
    "        print('Train: loss', train_loss, 'accuracy', train_accuracy)\n",
    "        print('Validation: loss', val_loss, 'accuracy', val_accuracy)\n",
    "        \n",
    "\n",
    "        if val_accuracy > max_val_accuracy:\n",
    "            max_val_accuracy = val_accuracy\n",
    "            early_stopping = 5\n",
    "\n",
    "            # Save the model\n",
    "            torch.save(model.state_dict(), f'{save_path}/model.pth')\n",
    "\n",
    "            # Save the threshold\n",
    "            torch.save(threshold, f'{save_path}/threshold.pth')\n",
    "\n",
    "            # Save the optimizer\n",
    "            torch.save(optimizer.state_dict(), f'{save_path}/optimizer.pth')\n",
    "\n",
    "            # Save the scheduler\n",
    "            torch.save(scheduler.state_dict(), f'{save_path}/scheduler.pth')\n",
    "\n",
    "            # Save the threshold history\n",
    "            np.save(f'{save_path}/threshold_history.npy', threshold_history)\n",
    "\n",
    "            # Save the loss history\n",
    "            np.save(f'{save_path}/train_loss_history.npy', train_loss_history)\n",
    "            np.save(f'{save_path}/val_loss_history.npy', val_loss_history)\n",
    "\n",
    "            # Save the accuracy history\n",
    "            np.save(f'{save_path}/train_accuracy_history.npy', train_accuracy_history)\n",
    "            np.save(f'{save_path}/val_accuracy_history.npy', val_accuracy_history)\n",
    "\n",
    "            # Save the last epoch\n",
    "            np.save(f'{save_path}/last_epoch.npy', epoch+1)\n",
    "\n",
    "            # Save max validation accuracy\n",
    "            np.save(f'{save_path}/max_val_accuracy.npy', max_val_accuracy)\n",
    "\n",
    "            # Save early stopping\n",
    "            np.save(f'{save_path}/early_stopping.npy', early_stopping)\n",
    "\n",
    "        else:\n",
    "            early_stopping -= 1\n",
    "\n",
    "        if early_stopping == 0:\n",
    "            break\n",
    "\n",
    "\n",
    "    print(f'Best validation accuracy for {model_name}:', max(val_accuracy_history), 'Epoch', val_accuracy_history.index(max(val_accuracy_history))+1)\n",
    "    return train_accuracy_history, val_accuracy_history, train_loss_history, val_loss_history, threshold_history"
   ]
  },
  {
   "cell_type": "markdown",
   "metadata": {},
   "source": [
    "# Testing model metrics"
   ]
  },
  {
   "cell_type": "code",
   "execution_count": 15,
   "metadata": {
    "execution": {
     "iopub.execute_input": "2024-12-25T13:18:31.014986Z",
     "iopub.status.busy": "2024-12-25T13:18:31.014676Z",
     "iopub.status.idle": "2024-12-25T13:18:31.035475Z",
     "shell.execute_reply": "2024-12-25T13:18:31.034561Z",
     "shell.execute_reply.started": "2024-12-25T13:18:31.014930Z"
    },
    "trusted": true
   },
   "outputs": [],
   "source": [
    "def testing_models_metrics(class_amount: int = 300, model_suff_path: str = None, train_test_indices_path: str = None, dataloaders: dict = None):\n",
    "\n",
    "    model = _resnet(PreactBasicBlock, [2, 2, 2, 2], None, False)  # 'resnet18'\n",
    "    model.fc = nn.Linear(model.fc.in_features, class_amount)\n",
    "    threshold = nn.Parameter(torch.tensor(0.5, requires_grad=True))\n",
    "\n",
    "    # Load model weights\n",
    "    if model_suff_path is not None:\n",
    "        if os.path.exists(f\"{model_suff_path}/model.pth\"):\n",
    "            model.load_state_dict(torch.load(f\"{model_suff_path}/model.pth\"))\n",
    "        if os.path.exists(f\"{model_suff_path}/threshold.pth\"):\n",
    "            threshold = torch.load(f\"{model_suff_path}/threshold.pth\")\n",
    "\n",
    "    criterion = nn.BCELoss()\n",
    "\n",
    "    # Load \n",
    "    if dataloaders is None:\n",
    "        trainloader, testloader, original_dataset = get_dataloaders(batch_size=4096, train_test_indices_path=train_test_indices_path)\n",
    "    else:\n",
    "        testloader = dataloaders[\"testloader\"]\n",
    "        original_dataset = dataloaders[\"original_dataset\"]\n",
    "    \n",
    "    model = model.to(device)\n",
    "\n",
    "    \"\"\"\n",
    "    # Test loss and accuracy\n",
    "    if casia_hwdb is None:\n",
    "        test_loss, test_accuracy = cycle(model, testloader, criterion)\n",
    "        print('Test: loss', test_loss, 'accuracy', test_accuracy)\n",
    "    \"\"\"\n",
    "\n",
    "    all_preds, all_labels = [], []\n",
    "\n",
    "    scaler = torch.cuda.amp.GradScaler()\n",
    "    model.eval()\n",
    "    threshold.requires_grad = False\n",
    "    with torch.no_grad(), torch.cuda.amp.autocast():\n",
    "        for data in tqdm(testloader, desc=\"Evaluating\"):\n",
    "            images, labels = data\n",
    "            images = images.to(device)\n",
    "            labels = labels.to(device)\n",
    "\n",
    "            outputs = model(images)\n",
    "            \n",
    "            confidences = torch.max(F.softmax(outputs, dim=1), 1)[0]\n",
    "            binary_predictions = confidences > threshold\n",
    "\n",
    "            all_preds.extend(binary_predictions.cpu().numpy())\n",
    "            all_labels.extend(labels.cpu().numpy())\n",
    "\n",
    "    # Calculate metrics\n",
    "    all_preds = np.array(all_preds)\n",
    "    all_labels = np.array(all_labels)\n",
    "\n",
    "    accuracy = accuracy_score(all_labels, all_preds)\n",
    "    confusion_matrix_ = confusion_matrix(all_labels, all_preds)\n",
    "    report = classification_report(all_labels, all_preds, target_names=original_dataset.classes, output_dict=True)\n",
    "    f1_score = report[\"macro avg\"][\"f1-score\"] \n",
    "\n",
    "    print(f\"Accuracy: {accuracy}\")\n",
    "    print(f\"F1 score: {f1_score}\")\n",
    "    print(f\"Confusion matrix: {confusion_matrix_}\")\n",
    "    print(f\"Report: {report}\")\n"
   ]
  },
  {
   "cell_type": "markdown",
   "metadata": {},
   "source": [
    "# Threshold logic"
   ]
  },
  {
   "cell_type": "code",
   "execution_count": 16,
   "metadata": {
    "execution": {
     "iopub.execute_input": "2024-12-25T13:18:31.036699Z",
     "iopub.status.busy": "2024-12-25T13:18:31.036389Z",
     "iopub.status.idle": "2024-12-25T13:19:32.763846Z",
     "shell.execute_reply": "2024-12-25T13:19:32.762895Z",
     "shell.execute_reply.started": "2024-12-25T13:18:31.036670Z"
    },
    "trusted": true
   },
   "outputs": [
    {
     "name": "stderr",
     "output_type": "stream",
     "text": [
      "<ipython-input-10-6772763f2c87>:14: FutureWarning: You are using `torch.load` with `weights_only=False` (the current default value), which uses the default pickle module implicitly. It is possible to construct malicious pickle data which will execute arbitrary code during unpickling (See https://github.com/pytorch/pytorch/blob/main/SECURITY.md#untrusted-models for more details). In a future release, the default value for `weights_only` will be flipped to `True`. This limits the functions that could be executed during unpickling. Arbitrary objects will no longer be allowed to be loaded via this mode unless they are explicitly allowlisted by the user via `torch.serialization.add_safe_globals`. We recommend you start setting `weights_only=True` for any use case where you don't have full control of the loaded file. Please open an issue on GitHub for any issues related to this experimental feature.\n",
      "  model.load_state_dict(torch.load(pathes[\"model\"]))\n"
     ]
    }
   ],
   "source": [
    "# Getting stuff for training\n",
    "\n",
    "pathes = create_pathes_vocabulary(\"/kaggle/input/kkanji-known-unknown/threshold_stuff/threshold_stuff\")\n",
    "\n",
    "trainloader, testloader, original_dataset = get_dataloaders(batch_size=4096, train_test_indices_path=\"/kaggle/working/train_test_indices_threshold.pkl\")\n",
    "\n",
    "stuff = getting_stuff_for_training(pathes=pathes)\n",
    "\n",
    "dataloaders = {\"trainloader\": trainloader, \"testloader\": testloader, \"original_dataset\": original_dataset}"
   ]
  },
  {
   "cell_type": "code",
   "execution_count": 17,
   "metadata": {
    "execution": {
     "iopub.execute_input": "2024-12-25T13:19:32.765074Z",
     "iopub.status.busy": "2024-12-25T13:19:32.764753Z",
     "iopub.status.idle": "2024-12-25T13:28:37.023320Z",
     "shell.execute_reply": "2024-12-25T13:28:37.022012Z",
     "shell.execute_reply.started": "2024-12-25T13:19:32.765046Z"
    },
    "scrolled": true,
    "trusted": true
   },
   "outputs": [
    {
     "name": "stderr",
     "output_type": "stream",
     "text": [
      "  0%|          | 0/100 [00:00<?, ?it/s]\n",
      "Batches train = True:   0%|          | 0/17 [00:00<?, ?it/s]\u001b[A\n",
      "Batches train = True:   6%|▌         | 1/17 [00:15<04:02, 15.16s/it]\u001b[A\n",
      "Batches train = True:  12%|█▏        | 2/17 [00:16<01:43,  6.91s/it]\u001b[A\n",
      "Batches train = True:  18%|█▊        | 3/17 [00:17<00:59,  4.28s/it]\u001b[A\n",
      "Batches train = True:  24%|██▎       | 4/17 [00:18<00:39,  3.04s/it]\u001b[A\n",
      "Batches train = True:  29%|██▉       | 5/17 [00:26<00:58,  4.92s/it]\u001b[A\n",
      "Batches train = True:  35%|███▌      | 6/17 [00:27<00:39,  3.63s/it]\u001b[A\n",
      "Batches train = True:  41%|████      | 7/17 [00:29<00:28,  2.82s/it]\u001b[A\n",
      "Batches train = True:  47%|████▋     | 8/17 [00:30<00:20,  2.28s/it]\u001b[A\n",
      "Batches train = True:  53%|█████▎    | 9/17 [00:39<00:36,  4.50s/it]\u001b[A\n",
      "Batches train = True:  59%|█████▉    | 10/17 [00:40<00:24,  3.47s/it]\u001b[A\n",
      "Batches train = True:  65%|██████▍   | 11/17 [00:41<00:16,  2.75s/it]\u001b[A\n",
      "Batches train = True:  71%|███████   | 12/17 [00:43<00:11,  2.26s/it]\u001b[A\n",
      "Batches train = True:  76%|███████▋  | 13/17 [00:52<00:18,  4.51s/it]\u001b[A\n",
      "Batches train = True:  82%|████████▏ | 14/17 [00:53<00:10,  3.48s/it]\u001b[A\n",
      "Batches train = True:  88%|████████▊ | 15/17 [00:54<00:05,  2.77s/it]\u001b[A\n",
      "Batches train = True:  94%|█████████▍| 16/17 [00:56<00:02,  2.27s/it]\u001b[A\n",
      "Batches train = True: 100%|██████████| 17/17 [01:00<00:00,  3.58s/it]\u001b[A\n",
      "\n",
      "Batches train = False:   0%|          | 0/8 [00:00<?, ?it/s]\u001b[A\n",
      "Batches train = False:  12%|█▎        | 1/8 [00:13<01:33, 13.30s/it]\u001b[A\n",
      "Batches train = False:  25%|██▌       | 2/8 [00:13<00:34,  5.71s/it]\u001b[A\n",
      "Batches train = False:  38%|███▊      | 3/8 [00:14<00:16,  3.28s/it]\u001b[A\n",
      "Batches train = False:  50%|█████     | 4/8 [00:14<00:08,  2.14s/it]\u001b[A\n",
      "Batches train = False:  62%|██████▎   | 5/8 [00:25<00:16,  5.38s/it]\u001b[A\n",
      "Batches train = False:  75%|███████▌  | 6/8 [00:25<00:07,  3.68s/it]\u001b[A\n",
      "Batches train = False: 100%|██████████| 8/8 [00:26<00:00,  3.30s/it]\u001b[A\n",
      "  1%|          | 1/100 [01:27<2:25:00, 87.89s/it]"
     ]
    },
    {
     "name": "stdout",
     "output_type": "stream",
     "text": [
      "Threshold value: 0.91687\n",
      "Epoch: 1\n",
      "Train: loss 10.687858637641458 accuracy 0.8931214143248165\n",
      "Validation: loss 10.309173226356506 accuracy 0.8969082683324814\n"
     ]
    },
    {
     "name": "stderr",
     "output_type": "stream",
     "text": [
      "\n",
      "Batches train = True:   0%|          | 0/17 [00:00<?, ?it/s]\u001b[A\n",
      "Batches train = True:   6%|▌         | 1/17 [00:07<01:57,  7.36s/it]\u001b[A\n",
      "Batches train = True:  12%|█▏        | 2/17 [00:08<00:55,  3.72s/it]\u001b[A\n",
      "Batches train = True:  18%|█▊        | 3/17 [00:09<00:35,  2.55s/it]\u001b[A\n",
      "Batches train = True:  24%|██▎       | 4/17 [00:10<00:25,  2.00s/it]\u001b[A\n",
      "Batches train = True:  29%|██▉       | 5/17 [00:14<00:30,  2.52s/it]\u001b[A\n",
      "Batches train = True:  35%|███▌      | 6/17 [00:15<00:22,  2.05s/it]\u001b[A\n",
      "Batches train = True:  41%|████      | 7/17 [00:16<00:17,  1.75s/it]\u001b[A\n",
      "Batches train = True:  47%|████▋     | 8/17 [00:17<00:14,  1.56s/it]\u001b[A\n",
      "Batches train = True:  53%|█████▎    | 9/17 [00:20<00:16,  2.08s/it]\u001b[A\n",
      "Batches train = True:  59%|█████▉    | 10/17 [00:22<00:12,  1.79s/it]\u001b[A\n",
      "Batches train = True:  65%|██████▍   | 11/17 [00:23<00:09,  1.59s/it]\u001b[A\n",
      "Batches train = True:  71%|███████   | 12/17 [00:24<00:07,  1.46s/it]\u001b[A\n",
      "Batches train = True:  76%|███████▋  | 13/17 [00:27<00:07,  1.87s/it]\u001b[A\n",
      "Batches train = True:  82%|████████▏ | 14/17 [00:28<00:04,  1.65s/it]\u001b[A\n",
      "Batches train = True:  88%|████████▊ | 15/17 [00:29<00:02,  1.49s/it]\u001b[A\n",
      "Batches train = True:  94%|█████████▍| 16/17 [00:30<00:01,  1.38s/it]\u001b[A\n",
      "Batches train = True: 100%|██████████| 17/17 [00:31<00:00,  1.85s/it]\u001b[A\n",
      "\n",
      "Batches train = False:   0%|          | 0/8 [00:00<?, ?it/s]\u001b[A\n",
      "Batches train = False:  12%|█▎        | 1/8 [00:06<00:46,  6.70s/it]\u001b[A\n",
      "Batches train = False:  25%|██▌       | 2/8 [00:07<00:17,  2.99s/it]\u001b[A\n",
      "Batches train = False:  38%|███▊      | 3/8 [00:07<00:09,  1.81s/it]\u001b[A\n",
      "Batches train = False:  50%|█████     | 4/8 [00:07<00:04,  1.25s/it]\u001b[A\n",
      "Batches train = False:  62%|██████▎   | 5/8 [00:12<00:07,  2.44s/it]\u001b[A\n",
      "Batches train = False:  75%|███████▌  | 6/8 [00:12<00:03,  1.74s/it]\u001b[A\n",
      "Batches train = False: 100%|██████████| 8/8 [00:13<00:00,  1.66s/it]\u001b[A\n",
      "  2%|▏         | 2/100 [02:13<1:42:31, 62.77s/it]"
     ]
    },
    {
     "name": "stdout",
     "output_type": "stream",
     "text": [
      "Threshold value: 0.93325\n",
      "Epoch: 2\n",
      "Train: loss 9.748500319088206 accuracy 0.9025149976505953\n",
      "Validation: loss 9.326104879379272 accuracy 0.9067389518022537\n"
     ]
    },
    {
     "name": "stderr",
     "output_type": "stream",
     "text": [
      "\n",
      "Batches train = True:   0%|          | 0/17 [00:00<?, ?it/s]\u001b[A\n",
      "Batches train = True:   6%|▌         | 1/17 [00:07<02:05,  7.85s/it]\u001b[A\n",
      "Batches train = True:  12%|█▏        | 2/17 [00:08<00:58,  3.91s/it]\u001b[A\n",
      "Batches train = True:  18%|█▊        | 3/17 [00:10<00:37,  2.64s/it]\u001b[A\n",
      "Batches train = True:  24%|██▎       | 4/17 [00:11<00:26,  2.05s/it]\u001b[A\n",
      "Batches train = True:  29%|██▉       | 5/17 [00:14<00:28,  2.41s/it]\u001b[A\n",
      "Batches train = True:  35%|███▌      | 6/17 [00:15<00:21,  1.98s/it]\u001b[A\n",
      "Batches train = True:  41%|████      | 7/17 [00:16<00:17,  1.71s/it]\u001b[A\n",
      "Batches train = True:  47%|████▋     | 8/17 [00:17<00:13,  1.52s/it]\u001b[A\n",
      "Batches train = True:  53%|█████▎    | 9/17 [00:20<00:16,  2.06s/it]\u001b[A\n",
      "Batches train = True:  59%|█████▉    | 10/17 [00:22<00:12,  1.78s/it]\u001b[A\n",
      "Batches train = True:  65%|██████▍   | 11/17 [00:23<00:09,  1.58s/it]\u001b[A\n",
      "Batches train = True:  71%|███████   | 12/17 [00:24<00:07,  1.45s/it]\u001b[A\n",
      "Batches train = True:  76%|███████▋  | 13/17 [00:27<00:08,  2.04s/it]\u001b[A\n",
      "Batches train = True:  82%|████████▏ | 14/17 [00:28<00:05,  1.76s/it]\u001b[A\n",
      "Batches train = True:  88%|████████▊ | 15/17 [00:30<00:03,  1.57s/it]\u001b[A\n",
      "Batches train = True:  94%|█████████▍| 16/17 [00:31<00:01,  1.43s/it]\u001b[A\n",
      "Batches train = True: 100%|██████████| 17/17 [00:32<00:00,  1.88s/it]\u001b[A\n",
      "\n",
      "Batches train = False:   0%|          | 0/8 [00:00<?, ?it/s]\u001b[A\n",
      "Batches train = False:  12%|█▎        | 1/8 [00:06<00:48,  6.97s/it]\u001b[A\n",
      "Batches train = False:  25%|██▌       | 2/8 [00:07<00:18,  3.10s/it]\u001b[A\n",
      "Batches train = False:  38%|███▊      | 3/8 [00:07<00:09,  1.86s/it]\u001b[A\n",
      "Batches train = False:  50%|█████     | 4/8 [00:08<00:05,  1.28s/it]\u001b[A\n",
      "Batches train = False:  62%|██████▎   | 5/8 [00:12<00:07,  2.53s/it]\u001b[A\n",
      "Batches train = False:  75%|███████▌  | 6/8 [00:13<00:03,  1.80s/it]\u001b[A\n",
      "Batches train = False: 100%|██████████| 8/8 [00:13<00:00,  1.71s/it]\u001b[A\n",
      "  3%|▎         | 3/100 [02:59<1:29:16, 55.22s/it]"
     ]
    },
    {
     "name": "stdout",
     "output_type": "stream",
     "text": [
      "Threshold value: 0.94869\n",
      "Epoch: 3\n",
      "Train: loss 8.723383398617015 accuracy 0.9127661655930912\n",
      "Validation: loss 8.372011303901672 accuracy 0.9162798896431923\n"
     ]
    },
    {
     "name": "stderr",
     "output_type": "stream",
     "text": [
      "\n",
      "Batches train = True:   0%|          | 0/17 [00:00<?, ?it/s]\u001b[A\n",
      "Batches train = True:   6%|▌         | 1/17 [00:07<01:56,  7.31s/it]\u001b[A\n",
      "Batches train = True:  12%|█▏        | 2/17 [00:08<00:55,  3.69s/it]\u001b[A\n",
      "Batches train = True:  18%|█▊        | 3/17 [00:09<00:35,  2.52s/it]\u001b[A\n",
      "Batches train = True:  24%|██▎       | 4/17 [00:10<00:25,  1.97s/it]\u001b[A\n",
      "Batches train = True:  29%|██▉       | 5/17 [00:13<00:27,  2.32s/it]\u001b[A\n",
      "Batches train = True:  35%|███▌      | 6/17 [00:14<00:21,  1.93s/it]\u001b[A\n",
      "Batches train = True:  41%|████      | 7/17 [00:15<00:16,  1.67s/it]\u001b[A\n",
      "Batches train = True:  47%|████▋     | 8/17 [00:17<00:13,  1.51s/it]\u001b[A\n",
      "Batches train = True:  53%|█████▎    | 9/17 [00:20<00:15,  1.98s/it]\u001b[A\n",
      "Batches train = True:  59%|█████▉    | 10/17 [00:21<00:12,  1.72s/it]\u001b[A\n",
      "Batches train = True:  65%|██████▍   | 11/17 [00:22<00:09,  1.54s/it]\u001b[A\n",
      "Batches train = True:  71%|███████   | 12/17 [00:23<00:07,  1.42s/it]\u001b[A\n",
      "Batches train = True:  76%|███████▋  | 13/17 [00:26<00:07,  1.84s/it]\u001b[A\n",
      "Batches train = True:  82%|████████▏ | 14/17 [00:27<00:04,  1.63s/it]\u001b[A\n",
      "Batches train = True:  88%|████████▊ | 15/17 [00:28<00:02,  1.48s/it]\u001b[A\n",
      "Batches train = True:  94%|█████████▍| 16/17 [00:29<00:01,  1.37s/it]\u001b[A\n",
      "Batches train = True: 100%|██████████| 17/17 [00:30<00:00,  1.80s/it]\u001b[A\n",
      "\n",
      "Batches train = False:   0%|          | 0/8 [00:00<?, ?it/s]\u001b[A\n",
      "Batches train = False:  12%|█▎        | 1/8 [00:06<00:47,  6.72s/it]\u001b[A\n",
      "Batches train = False:  25%|██▌       | 2/8 [00:07<00:17,  3.00s/it]\u001b[A\n",
      "Batches train = False:  38%|███▊      | 3/8 [00:07<00:09,  1.81s/it]\u001b[A\n",
      "Batches train = False:  50%|█████     | 4/8 [00:07<00:05,  1.25s/it]\u001b[A\n",
      "Batches train = False:  62%|██████▎   | 5/8 [00:12<00:07,  2.40s/it]\u001b[A\n",
      "Batches train = False:  75%|███████▌  | 6/8 [00:12<00:03,  1.71s/it]\u001b[A\n",
      "Batches train = False: 100%|██████████| 8/8 [00:13<00:00,  1.65s/it]\u001b[A\n",
      "  4%|▍         | 4/100 [03:43<1:21:25, 50.89s/it]"
     ]
    },
    {
     "name": "stdout",
     "output_type": "stream",
     "text": [
      "Threshold value: 0.96286\n",
      "Epoch: 4\n",
      "Train: loss 7.806005590102252 accuracy 0.9219399445197162\n",
      "Validation: loss 7.494614124298096 accuracy 0.9250538647174835\n"
     ]
    },
    {
     "name": "stderr",
     "output_type": "stream",
     "text": [
      "\n",
      "Batches train = True:   0%|          | 0/17 [00:00<?, ?it/s]\u001b[A\n",
      "Batches train = True:   6%|▌         | 1/17 [00:07<02:04,  7.81s/it]\u001b[A\n",
      "Batches train = True:  12%|█▏        | 2/17 [00:08<00:58,  3.89s/it]\u001b[A\n",
      "Batches train = True:  18%|█▊        | 3/17 [00:10<00:36,  2.63s/it]\u001b[A\n",
      "Batches train = True:  24%|██▎       | 4/17 [00:11<00:26,  2.05s/it]\u001b[A\n",
      "Batches train = True:  29%|██▉       | 5/17 [00:14<00:28,  2.39s/it]\u001b[A\n",
      "Batches train = True:  35%|███▌      | 6/17 [00:15<00:21,  1.97s/it]\u001b[A\n",
      "Batches train = True:  41%|████      | 7/17 [00:16<00:17,  1.70s/it]\u001b[A\n",
      "Batches train = True:  47%|████▋     | 8/17 [00:17<00:13,  1.52s/it]\u001b[A\n",
      "Batches train = True:  53%|█████▎    | 9/17 [00:20<00:15,  1.93s/it]\u001b[A\n",
      "Batches train = True:  59%|█████▉    | 10/17 [00:21<00:11,  1.69s/it]\u001b[A\n",
      "Batches train = True:  65%|██████▍   | 11/17 [00:22<00:09,  1.52s/it]\u001b[A\n",
      "Batches train = True:  71%|███████   | 12/17 [00:23<00:07,  1.41s/it]\u001b[A\n",
      "Batches train = True:  76%|███████▋  | 13/17 [00:26<00:07,  1.86s/it]\u001b[A\n",
      "Batches train = True:  82%|████████▏ | 14/17 [00:27<00:04,  1.64s/it]\u001b[A\n",
      "Batches train = True:  88%|████████▊ | 15/17 [00:29<00:02,  1.48s/it]\u001b[A\n",
      "Batches train = True:  94%|█████████▍| 16/17 [00:30<00:01,  1.38s/it]\u001b[A\n",
      "Batches train = True: 100%|██████████| 17/17 [00:31<00:00,  1.83s/it]\u001b[A\n",
      "\n",
      "Batches train = False:   0%|          | 0/8 [00:00<?, ?it/s]\u001b[A\n",
      "Batches train = False:  12%|█▎        | 1/8 [00:06<00:47,  6.85s/it]\u001b[A\n",
      "Batches train = False:  25%|██▌       | 2/8 [00:07<00:18,  3.06s/it]\u001b[A\n",
      "Batches train = False:  38%|███▊      | 3/8 [00:07<00:09,  1.85s/it]\u001b[A\n",
      "Batches train = False:  50%|█████     | 4/8 [00:08<00:05,  1.27s/it]\u001b[A\n",
      "Batches train = False:  62%|██████▎   | 5/8 [00:12<00:07,  2.42s/it]\u001b[A\n",
      "Batches train = False:  75%|███████▌  | 6/8 [00:12<00:03,  1.72s/it]\u001b[A\n",
      "Batches train = False: 100%|██████████| 8/8 [00:13<00:00,  1.66s/it]\u001b[A\n",
      "  5%|▌         | 5/100 [04:28<1:17:09, 48.73s/it]"
     ]
    },
    {
     "name": "stdout",
     "output_type": "stream",
     "text": [
      "Threshold value: 0.97552\n",
      "Epoch: 5\n",
      "Train: loss 6.9743713491103225 accuracy 0.9302562860881581\n",
      "Validation: loss 6.6877763867378235 accuracy 0.9331222400069237\n"
     ]
    },
    {
     "name": "stderr",
     "output_type": "stream",
     "text": [
      "\n",
      "Batches train = True:   0%|          | 0/17 [00:00<?, ?it/s]\u001b[A\n",
      "Batches train = True:   6%|▌         | 1/17 [00:07<01:58,  7.38s/it]\u001b[A\n",
      "Batches train = True:  12%|█▏        | 2/17 [00:08<00:55,  3.71s/it]\u001b[A\n",
      "Batches train = True:  18%|█▊        | 3/17 [00:09<00:35,  2.54s/it]\u001b[A\n",
      "Batches train = True:  24%|██▎       | 4/17 [00:10<00:25,  1.99s/it]\u001b[A\n",
      "Batches train = True:  29%|██▉       | 5/17 [00:13<00:28,  2.40s/it]\u001b[A\n",
      "Batches train = True:  35%|███▌      | 6/17 [00:15<00:21,  1.97s/it]\u001b[A\n",
      "Batches train = True:  41%|████      | 7/17 [00:16<00:17,  1.70s/it]\u001b[A\n",
      "Batches train = True:  47%|████▋     | 8/17 [00:17<00:13,  1.52s/it]\u001b[A\n",
      "Batches train = True:  53%|█████▎    | 9/17 [00:20<00:16,  2.03s/it]\u001b[A\n",
      "Batches train = True:  59%|█████▉    | 10/17 [00:21<00:12,  1.76s/it]\u001b[A\n",
      "Batches train = True:  65%|██████▍   | 11/17 [00:22<00:09,  1.57s/it]\u001b[A\n",
      "Batches train = True:  71%|███████   | 12/17 [00:23<00:07,  1.44s/it]\u001b[A\n",
      "Batches train = True:  76%|███████▋  | 13/17 [00:27<00:08,  2.03s/it]\u001b[A\n",
      "Batches train = True:  82%|████████▏ | 14/17 [00:28<00:05,  1.75s/it]\u001b[A\n",
      "Batches train = True:  88%|████████▊ | 15/17 [00:29<00:03,  1.56s/it]\u001b[A\n",
      "Batches train = True:  94%|█████████▍| 16/17 [00:30<00:01,  1.43s/it]\u001b[A\n",
      "Batches train = True: 100%|██████████| 17/17 [00:31<00:00,  1.86s/it]\u001b[A\n",
      "\n",
      "Batches train = False:   0%|          | 0/8 [00:00<?, ?it/s]\u001b[A\n",
      "Batches train = False:  12%|█▎        | 1/8 [00:06<00:45,  6.52s/it]\u001b[A\n",
      "Batches train = False:  25%|██▌       | 2/8 [00:06<00:17,  2.92s/it]\u001b[A\n",
      "Batches train = False:  38%|███▊      | 3/8 [00:07<00:08,  1.77s/it]\u001b[A\n",
      "Batches train = False:  50%|█████     | 4/8 [00:07<00:04,  1.23s/it]\u001b[A\n",
      "Batches train = False:  62%|██████▎   | 5/8 [00:12<00:07,  2.34s/it]\u001b[A\n",
      "Batches train = False:  75%|███████▌  | 6/8 [00:12<00:03,  1.67s/it]\u001b[A\n",
      "Batches train = False: 100%|██████████| 8/8 [00:12<00:00,  1.61s/it]\u001b[A\n",
      "  6%|▌         | 6/100 [05:13<1:14:18, 47.43s/it]"
     ]
    },
    {
     "name": "stdout",
     "output_type": "stream",
     "text": [
      "Threshold value: 0.98634\n",
      "Epoch: 6\n",
      "Train: loss 6.272003033581902 accuracy 0.9372799712068894\n",
      "Validation: loss 6.139566600322723 accuracy 0.9386043399572372\n"
     ]
    },
    {
     "name": "stderr",
     "output_type": "stream",
     "text": [
      "\n",
      "Batches train = True:   0%|          | 0/17 [00:00<?, ?it/s]\u001b[A\n",
      "Batches train = True:   6%|▌         | 1/17 [00:07<01:57,  7.36s/it]\u001b[A\n",
      "Batches train = True:  12%|█▏        | 2/17 [00:08<00:55,  3.71s/it]\u001b[A\n",
      "Batches train = True:  18%|█▊        | 3/17 [00:09<00:35,  2.54s/it]\u001b[A\n",
      "Batches train = True:  24%|██▎       | 4/17 [00:10<00:25,  1.99s/it]\u001b[A\n",
      "Batches train = True:  29%|██▉       | 5/17 [00:14<00:29,  2.47s/it]\u001b[A\n",
      "Batches train = True:  35%|███▌      | 6/17 [00:15<00:22,  2.02s/it]\u001b[A\n",
      "Batches train = True:  41%|████      | 7/17 [00:16<00:17,  1.73s/it]\u001b[A\n",
      "Batches train = True:  47%|████▋     | 8/17 [00:17<00:13,  1.55s/it]\u001b[A\n",
      "Batches train = True:  53%|█████▎    | 9/17 [00:20<00:15,  1.98s/it]\u001b[A\n",
      "Batches train = True:  59%|█████▉    | 10/17 [00:21<00:12,  1.72s/it]\u001b[A\n",
      "Batches train = True:  65%|██████▍   | 11/17 [00:22<00:09,  1.54s/it]\u001b[A\n",
      "Batches train = True:  71%|███████   | 12/17 [00:23<00:07,  1.42s/it]\u001b[A\n",
      "Batches train = True:  76%|███████▋  | 13/17 [00:26<00:07,  1.88s/it]\u001b[A\n",
      "Batches train = True:  82%|████████▏ | 14/17 [00:27<00:04,  1.65s/it]\u001b[A\n",
      "Batches train = True:  88%|████████▊ | 15/17 [00:29<00:02,  1.49s/it]\u001b[A\n",
      "Batches train = True:  94%|█████████▍| 16/17 [00:30<00:01,  1.38s/it]\u001b[A\n",
      "Batches train = True: 100%|██████████| 17/17 [00:31<00:00,  1.83s/it]\u001b[A\n",
      "\n",
      "Batches train = False:   0%|          | 0/8 [00:00<?, ?it/s]\u001b[A\n",
      "Batches train = False:  12%|█▎        | 1/8 [00:06<00:48,  6.88s/it]\u001b[A\n",
      "Batches train = False:  25%|██▌       | 2/8 [00:07<00:18,  3.06s/it]\u001b[A\n",
      "Batches train = False:  38%|███▊      | 3/8 [00:07<00:09,  1.85s/it]\u001b[A\n",
      "Batches train = False:  50%|█████     | 4/8 [00:08<00:05,  1.28s/it]\u001b[A\n",
      "Batches train = False:  62%|██████▎   | 5/8 [00:12<00:07,  2.56s/it]\u001b[A\n",
      "Batches train = False:  75%|███████▌  | 6/8 [00:13<00:03,  1.82s/it]\u001b[A\n",
      "Batches train = False: 100%|██████████| 8/8 [00:13<00:00,  1.71s/it]\u001b[A\n",
      "  7%|▋         | 7/100 [05:58<1:12:21, 46.69s/it]"
     ]
    },
    {
     "name": "stdout",
     "output_type": "stream",
     "text": [
      "Threshold value: 0.99479\n",
      "Epoch: 7\n",
      "Train: loss 6.41630885180305 accuracy 0.935836911201477\n",
      "Validation: loss 7.527781069278717 accuracy 0.9247221946716309\n"
     ]
    },
    {
     "name": "stderr",
     "output_type": "stream",
     "text": [
      "\n",
      "Batches train = True:   0%|          | 0/17 [00:00<?, ?it/s]\u001b[A\n",
      "Batches train = True:   6%|▌         | 1/17 [00:07<01:56,  7.27s/it]\u001b[A\n",
      "Batches train = True:  12%|█▏        | 2/17 [00:08<00:55,  3.67s/it]\u001b[A\n",
      "Batches train = True:  18%|█▊        | 3/17 [00:09<00:35,  2.52s/it]\u001b[A\n",
      "Batches train = True:  24%|██▎       | 4/17 [00:10<00:25,  1.97s/it]\u001b[A\n",
      "Batches train = True:  29%|██▉       | 5/17 [00:13<00:27,  2.33s/it]\u001b[A\n",
      "Batches train = True:  35%|███▌      | 6/17 [00:14<00:21,  1.93s/it]\u001b[A\n",
      "Batches train = True:  41%|████      | 7/17 [00:15<00:16,  1.67s/it]\u001b[A\n",
      "Batches train = True:  47%|████▋     | 8/17 [00:17<00:13,  1.50s/it]\u001b[A\n",
      "Batches train = True:  53%|█████▎    | 9/17 [00:20<00:15,  1.97s/it]\u001b[A\n",
      "Batches train = True:  59%|█████▉    | 10/17 [00:21<00:11,  1.71s/it]\u001b[A\n",
      "Batches train = True:  65%|██████▍   | 11/17 [00:22<00:09,  1.54s/it]\u001b[A\n",
      "Batches train = True:  71%|███████   | 12/17 [00:23<00:07,  1.42s/it]\u001b[A\n",
      "Batches train = True:  76%|███████▋  | 13/17 [00:26<00:07,  1.91s/it]\u001b[A\n",
      "Batches train = True:  82%|████████▏ | 14/17 [00:27<00:05,  1.68s/it]\u001b[A\n",
      "Batches train = True:  88%|████████▊ | 15/17 [00:28<00:03,  1.51s/it]\u001b[A\n",
      "Batches train = True:  94%|█████████▍| 16/17 [00:29<00:01,  1.39s/it]\u001b[A\n",
      "Batches train = True: 100%|██████████| 17/17 [00:30<00:00,  1.81s/it]\u001b[A\n",
      "\n",
      "Batches train = False:   0%|          | 0/8 [00:00<?, ?it/s]\u001b[A\n",
      "Batches train = False:  12%|█▎        | 1/8 [00:07<00:49,  7.03s/it]\u001b[A\n",
      "Batches train = False:  25%|██▌       | 2/8 [00:07<00:18,  3.13s/it]\u001b[A\n",
      "Batches train = False:  38%|███▊      | 3/8 [00:07<00:09,  1.88s/it]\u001b[A\n",
      "Batches train = False:  50%|█████     | 4/8 [00:08<00:05,  1.29s/it]\u001b[A\n",
      "Batches train = False:  62%|██████▎   | 5/8 [00:12<00:07,  2.54s/it]\u001b[A\n",
      "Batches train = False:  75%|███████▌  | 6/8 [00:13<00:03,  1.80s/it]\u001b[A\n",
      "Batches train = False: 100%|██████████| 8/8 [00:13<00:00,  1.72s/it]\u001b[A\n",
      "  8%|▊         | 8/100 [06:43<1:10:44, 46.13s/it]"
     ]
    },
    {
     "name": "stdout",
     "output_type": "stream",
     "text": [
      "Threshold value: 1.00008\n",
      "Epoch: 8\n",
      "Train: loss 12.653556262745576 accuracy 0.8734644370920518\n",
      "Validation: loss 49.971763134002686 accuracy 0.5002823695540428\n"
     ]
    },
    {
     "name": "stderr",
     "output_type": "stream",
     "text": [
      "\n",
      "Batches train = True:   0%|          | 0/17 [00:00<?, ?it/s]\u001b[A\n",
      "Batches train = True:   6%|▌         | 1/17 [00:07<02:06,  7.91s/it]\u001b[A\n",
      "Batches train = True:  12%|█▏        | 2/17 [00:09<00:58,  3.93s/it]\u001b[A\n",
      "Batches train = True:  18%|█▊        | 3/17 [00:10<00:37,  2.66s/it]\u001b[A\n",
      "Batches train = True:  24%|██▎       | 4/17 [00:11<00:26,  2.07s/it]\u001b[A\n",
      "Batches train = True:  29%|██▉       | 5/17 [00:14<00:31,  2.61s/it]\u001b[A\n",
      "Batches train = True:  35%|███▌      | 6/17 [00:16<00:23,  2.11s/it]\u001b[A\n",
      "Batches train = True:  41%|████      | 7/17 [00:17<00:17,  1.80s/it]\u001b[A\n",
      "Batches train = True:  47%|████▋     | 8/17 [00:18<00:14,  1.59s/it]\u001b[A\n",
      "Batches train = True:  53%|█████▎    | 9/17 [00:21<00:16,  2.07s/it]\u001b[A\n",
      "Batches train = True:  59%|█████▉    | 10/17 [00:22<00:12,  1.79s/it]\u001b[A\n",
      "Batches train = True:  65%|██████▍   | 11/17 [00:23<00:09,  1.60s/it]\u001b[A\n",
      "Batches train = True:  71%|███████   | 12/17 [00:25<00:07,  1.47s/it]\u001b[A\n",
      "Batches train = True:  76%|███████▋  | 13/17 [00:28<00:08,  2.07s/it]\u001b[A\n",
      "Batches train = True:  82%|████████▏ | 14/17 [00:29<00:05,  1.78s/it]\u001b[A\n",
      "Batches train = True:  88%|████████▊ | 15/17 [00:30<00:03,  1.58s/it]\u001b[A\n",
      "Batches train = True:  94%|█████████▍| 16/17 [00:31<00:01,  1.45s/it]\u001b[A\n",
      "Batches train = True: 100%|██████████| 17/17 [00:32<00:00,  1.92s/it]\u001b[A\n",
      "\n",
      "Batches train = False:   0%|          | 0/8 [00:00<?, ?it/s]\u001b[A\n",
      "Batches train = False:  12%|█▎        | 1/8 [00:06<00:48,  6.93s/it]\u001b[A\n",
      "Batches train = False:  25%|██▌       | 2/8 [00:07<00:18,  3.09s/it]\u001b[A\n",
      "Batches train = False:  38%|███▊      | 3/8 [00:07<00:09,  1.86s/it]\u001b[A\n",
      "Batches train = False:  50%|█████     | 4/8 [00:08<00:05,  1.28s/it]\u001b[A\n",
      "Batches train = False:  62%|██████▎   | 5/8 [00:12<00:07,  2.54s/it]\u001b[A\n",
      "Batches train = False:  75%|███████▌  | 6/8 [00:13<00:03,  1.80s/it]\u001b[A\n",
      "Batches train = False: 100%|██████████| 8/8 [00:13<00:00,  1.72s/it]\u001b[A\n",
      "  9%|▉         | 9/100 [07:30<1:10:17, 46.35s/it]"
     ]
    },
    {
     "name": "stdout",
     "output_type": "stream",
     "text": [
      "Threshold value: 1.00162\n",
      "Epoch: 9\n",
      "Train: loss 50.026603923124426 accuracy 0.4997339616803562\n",
      "Validation: loss 49.971763134002686 accuracy 0.5002823695540428\n"
     ]
    },
    {
     "name": "stderr",
     "output_type": "stream",
     "text": [
      "\n",
      "Batches train = True:   0%|          | 0/17 [00:00<?, ?it/s]\u001b[A\n",
      "Batches train = True:   6%|▌         | 1/17 [00:07<02:07,  7.98s/it]\u001b[A\n",
      "Batches train = True:  12%|█▏        | 2/17 [00:09<00:59,  3.97s/it]\u001b[A\n",
      "Batches train = True:  18%|█▊        | 3/17 [00:10<00:37,  2.68s/it]\u001b[A\n",
      "Batches train = True:  24%|██▎       | 4/17 [00:11<00:26,  2.07s/it]\u001b[A\n",
      "Batches train = True:  29%|██▉       | 5/17 [00:14<00:30,  2.55s/it]\u001b[A\n",
      "Batches train = True:  35%|███▌      | 6/17 [00:15<00:22,  2.07s/it]\u001b[A\n",
      "Batches train = True:  41%|████      | 7/17 [00:17<00:17,  1.77s/it]\u001b[A\n",
      "Batches train = True:  47%|████▋     | 8/17 [00:18<00:14,  1.57s/it]\u001b[A\n",
      "Batches train = True:  53%|█████▎    | 9/17 [00:21<00:17,  2.18s/it]\u001b[A\n",
      "Batches train = True:  59%|█████▉    | 10/17 [00:22<00:13,  1.86s/it]\u001b[A\n",
      "Batches train = True:  65%|██████▍   | 11/17 [00:24<00:09,  1.65s/it]\u001b[A\n",
      "Batches train = True:  71%|███████   | 12/17 [00:25<00:07,  1.50s/it]\u001b[A\n",
      "Batches train = True:  76%|███████▋  | 13/17 [00:28<00:08,  2.09s/it]\u001b[A\n",
      "Batches train = True:  82%|████████▏ | 14/17 [00:29<00:05,  1.80s/it]\u001b[A\n",
      "Batches train = True:  88%|████████▊ | 15/17 [00:30<00:03,  1.60s/it]\u001b[A\n",
      "Batches train = True:  94%|█████████▍| 16/17 [00:32<00:01,  1.46s/it]\u001b[A\n",
      "Batches train = True: 100%|██████████| 17/17 [00:32<00:00,  1.94s/it]\u001b[A\n",
      "\n",
      "Batches train = False:   0%|          | 0/8 [00:00<?, ?it/s]\u001b[A\n",
      "Batches train = False:  12%|█▎        | 1/8 [00:07<00:49,  7.11s/it]\u001b[A\n",
      "Batches train = False:  25%|██▌       | 2/8 [00:07<00:18,  3.16s/it]\u001b[A\n",
      "Batches train = False:  38%|███▊      | 3/8 [00:07<00:09,  1.90s/it]\u001b[A\n",
      "Batches train = False:  50%|█████     | 4/8 [00:08<00:05,  1.31s/it]\u001b[A\n",
      "Batches train = False:  62%|██████▎   | 5/8 [00:13<00:07,  2.55s/it]\u001b[A\n",
      "Batches train = False:  75%|███████▌  | 6/8 [00:13<00:03,  1.81s/it]\u001b[A\n",
      "Batches train = False: 100%|██████████| 8/8 [00:13<00:00,  1.74s/it]\u001b[A\n",
      " 10%|█         | 10/100 [08:17<1:09:55, 46.62s/it]"
     ]
    },
    {
     "name": "stdout",
     "output_type": "stream",
     "text": [
      "Threshold value: 1.00189\n",
      "Epoch: 10\n",
      "Train: loss 50.026603923124426 accuracy 0.4997339616803562\n",
      "Validation: loss 49.971763134002686 accuracy 0.5002823695540428\n"
     ]
    },
    {
     "name": "stderr",
     "output_type": "stream",
     "text": [
      "\n",
      "Batches train = True:   0%|          | 0/17 [00:00<?, ?it/s]\u001b[A\n",
      "Batches train = True:   6%|▌         | 1/17 [00:07<02:04,  7.78s/it]\u001b[A\n",
      "Batches train = True:  12%|█▏        | 2/17 [00:08<00:58,  3.89s/it]\u001b[A\n",
      "Batches train = True:  18%|█▊        | 3/17 [00:10<00:36,  2.64s/it]\u001b[A\n",
      "Batches train = True:  24%|██▎       | 4/17 [00:11<00:26,  2.05s/it]\u001b[A\n",
      "Batches train = True:  29%|██▉       | 5/17 [00:14<00:30,  2.51s/it]\u001b[A\n",
      "Batches train = True:  35%|███▌      | 6/17 [00:15<00:22,  2.05s/it]\u001b[A\n",
      "Batches train = True:  41%|████      | 7/17 [00:16<00:17,  1.76s/it]\u001b[A\n",
      "Batches train = True:  47%|████▋     | 8/17 [00:18<00:14,  1.57s/it]\u001b[A\n",
      "Batches train = True:  53%|█████▎    | 9/17 [00:21<00:17,  2.19s/it]\u001b[A\n",
      "Batches train = True:  59%|█████▉    | 10/17 [00:22<00:13,  1.86s/it]\u001b[A\n",
      "Batches train = True:  65%|██████▍   | 11/17 [00:23<00:09,  1.64s/it]\u001b[A\n",
      "Batches train = True:  71%|███████   | 12/17 [00:25<00:07,  1.49s/it]\u001b[A\n",
      "Batches train = True:  76%|███████▋  | 13/17 [00:28<00:08,  2.08s/it]\u001b[A\n",
      "Batches train = True:  82%|████████▏ | 14/17 [00:29<00:05,  1.79s/it]\u001b[A\n",
      "Batches train = True:  88%|████████▊ | 15/17 [00:30<00:03,  1.59s/it]\u001b[A\n",
      "Batches train = True:  94%|█████████▍| 16/17 [00:31<00:01,  1.45s/it]\u001b[A\n",
      "Batches train = True: 100%|██████████| 17/17 [00:32<00:00,  1.92s/it]\u001b[A\n",
      "\n",
      "Batches train = False:   0%|          | 0/8 [00:00<?, ?it/s]\u001b[A\n",
      "Batches train = False:  12%|█▎        | 1/8 [00:07<00:49,  7.03s/it]\u001b[A\n",
      "Batches train = False:  25%|██▌       | 2/8 [00:07<00:18,  3.13s/it]\u001b[A\n",
      "Batches train = False:  38%|███▊      | 3/8 [00:07<00:09,  1.89s/it]\u001b[A\n",
      "Batches train = False:  50%|█████     | 4/8 [00:08<00:05,  1.30s/it]\u001b[A\n",
      "Batches train = False:  62%|██████▎   | 5/8 [00:12<00:07,  2.49s/it]\u001b[A\n",
      "Batches train = False:  75%|███████▌  | 6/8 [00:13<00:03,  1.77s/it]\u001b[A\n",
      "Batches train = False: 100%|██████████| 8/8 [00:13<00:00,  1.71s/it]\u001b[A\n",
      " 10%|█         | 10/100 [09:04<1:21:38, 54.42s/it]"
     ]
    },
    {
     "name": "stdout",
     "output_type": "stream",
     "text": [
      "Threshold value: 1.0019\n",
      "Epoch: 11\n",
      "Train: loss 50.026603923124426 accuracy 0.4997339616803562\n",
      "Validation: loss 49.971763134002686 accuracy 0.5002823695540428\n",
      "Best validation accuracy for Threshold: 0.9386043399572372 Epoch 6\n"
     ]
    },
    {
     "name": "stderr",
     "output_type": "stream",
     "text": [
      "\n"
     ]
    }
   ],
   "source": [
    "# Train loop\n",
    "\n",
    "train_accuracy_history, val_accuracy_history, train_loss_history, val_loss_history, threshold_history = train_loop(trainloader, testloader, stuff=stuff, save_path=\"/kaggle/working/threshold_stuff\", model_name=\"Threshold\")"
   ]
  },
  {
   "cell_type": "code",
   "execution_count": 18,
   "metadata": {
    "execution": {
     "iopub.execute_input": "2024-12-25T13:28:37.024839Z",
     "iopub.status.busy": "2024-12-25T13:28:37.024460Z",
     "iopub.status.idle": "2024-12-25T13:28:37.346007Z",
     "shell.execute_reply": "2024-12-25T13:28:37.345115Z",
     "shell.execute_reply.started": "2024-12-25T13:28:37.024800Z"
    },
    "trusted": true
   },
   "outputs": [
    {
     "data": {
      "image/png": "[encoded data removed]",
      "text/plain": [
       "<Figure size 640x480 with 1 Axes>"
      ]
     },
     "metadata": {},
     "output_type": "display_data"
    }
   ],
   "source": [
    "custom_plot(train_accuracy_history, val_accuracy_history, \"Accuracy for Threshold with Epochs\", \"Accuracy\")"
   ]
  },
  {
   "cell_type": "code",
   "execution_count": 19,
   "metadata": {
    "execution": {
     "iopub.execute_input": "2024-12-25T13:28:37.347261Z",
     "iopub.status.busy": "2024-12-25T13:28:37.347006Z",
     "iopub.status.idle": "2024-12-25T13:28:37.626570Z",
     "shell.execute_reply": "2024-12-25T13:28:37.625411Z",
     "shell.execute_reply.started": "2024-12-25T13:28:37.347239Z"
    },
    "trusted": true
   },
   "outputs": [
    {
     "data": {
      "image/png": "[encoded data removed]",
      "text/plain": [
       "<Figure size 640x480 with 1 Axes>"
      ]
     },
     "metadata": {},
     "output_type": "display_data"
    }
   ],
   "source": [
    "custom_plot(train_loss_history, val_loss_history, \"Loss for Threshold with Epochs\", \"Loss\")"
   ]
  },
  {
   "cell_type": "code",
   "execution_count": 20,
   "metadata": {
    "execution": {
     "iopub.execute_input": "2024-12-25T13:28:37.631460Z",
     "iopub.status.busy": "2024-12-25T13:28:37.631190Z",
     "iopub.status.idle": "2024-12-25T13:28:37.986292Z",
     "shell.execute_reply": "2024-12-25T13:28:37.985434Z",
     "shell.execute_reply.started": "2024-12-25T13:28:37.631430Z"
    },
    "trusted": true
   },
   "outputs": [
    {
     "data": {
      "image/png": "[encoded data removed]",
      "text/plain": [
       "<Figure size 1000x600 with 1 Axes>"
      ]
     },
     "metadata": {},
     "output_type": "display_data"
    }
   ],
   "source": [
    "custom_plot_threshold(train_accuracy_history, val_accuracy_history, threshold_history, \"Accuracy for Threshold with Values\", \"Accuracy\")"
   ]
  },
  {
   "cell_type": "code",
   "execution_count": 21,
   "metadata": {
    "execution": {
     "iopub.execute_input": "2024-12-25T13:28:37.987679Z",
     "iopub.status.busy": "2024-12-25T13:28:37.987372Z",
     "iopub.status.idle": "2024-12-25T13:28:38.345433Z",
     "shell.execute_reply": "2024-12-25T13:28:38.344439Z",
     "shell.execute_reply.started": "2024-12-25T13:28:37.987655Z"
    },
    "trusted": true
   },
   "outputs": [
    {
     "data": {
      "image/png": "[encoded data removed]",
      "text/plain": [
       "<Figure size 1000x600 with 1 Axes>"
      ]
     },
     "metadata": {},
     "output_type": "display_data"
    }
   ],
   "source": [
    "custom_plot_threshold(train_loss_history, val_loss_history, threshold_history, \"Loss for Threshold with Values\", \"Loss\")"
   ]
  },
  {
   "cell_type": "code",
   "execution_count": 22,
   "metadata": {
    "execution": {
     "iopub.execute_input": "2024-12-25T13:28:38.346427Z",
     "iopub.status.busy": "2024-12-25T13:28:38.346138Z",
     "iopub.status.idle": "2024-12-25T13:28:52.545299Z",
     "shell.execute_reply": "2024-12-25T13:28:52.544306Z",
     "shell.execute_reply.started": "2024-12-25T13:28:38.346390Z"
    },
    "trusted": true
   },
   "outputs": [
    {
     "name": "stderr",
     "output_type": "stream",
     "text": [
      "<ipython-input-15-66497e14c521>:10: FutureWarning: You are using `torch.load` with `weights_only=False` (the current default value), which uses the default pickle module implicitly. It is possible to construct malicious pickle data which will execute arbitrary code during unpickling (See https://github.com/pytorch/pytorch/blob/main/SECURITY.md#untrusted-models for more details). In a future release, the default value for `weights_only` will be flipped to `True`. This limits the functions that could be executed during unpickling. Arbitrary objects will no longer be allowed to be loaded via this mode unless they are explicitly allowlisted by the user via `torch.serialization.add_safe_globals`. We recommend you start setting `weights_only=True` for any use case where you don't have full control of the loaded file. Please open an issue on GitHub for any issues related to this experimental feature.\n",
      "  model.load_state_dict(torch.load(f\"{model_suff_path}/model.pth\"))\n",
      "<ipython-input-15-66497e14c521>:12: FutureWarning: You are using `torch.load` with `weights_only=False` (the current default value), which uses the default pickle module implicitly. It is possible to construct malicious pickle data which will execute arbitrary code during unpickling (See https://github.com/pytorch/pytorch/blob/main/SECURITY.md#untrusted-models for more details). In a future release, the default value for `weights_only` will be flipped to `True`. This limits the functions that could be executed during unpickling. Arbitrary objects will no longer be allowed to be loaded via this mode unless they are explicitly allowlisted by the user via `torch.serialization.add_safe_globals`. We recommend you start setting `weights_only=True` for any use case where you don't have full control of the loaded file. Please open an issue on GitHub for any issues related to this experimental feature.\n",
      "  threshold = torch.load(f\"{model_suff_path}/threshold.pth\")\n",
      "<ipython-input-15-66497e14c521>:34: FutureWarning: `torch.cuda.amp.GradScaler(args...)` is deprecated. Please use `torch.amp.GradScaler('cuda', args...)` instead.\n",
      "  scaler = torch.cuda.amp.GradScaler()\n",
      "<ipython-input-15-66497e14c521>:37: FutureWarning: `torch.cuda.amp.autocast(args...)` is deprecated. Please use `torch.amp.autocast('cuda', args...)` instead.\n",
      "  with torch.no_grad(), torch.cuda.amp.autocast():\n",
      "Evaluating: 100%|██████████| 8/8 [00:13<00:00,  1.73s/it]\n"
     ]
    },
    {
     "name": "stdout",
     "output_type": "stream",
     "text": [
      "Accuracy: 0.9386734693877551\n",
      "F1 score: 0.9386718516091541\n",
      "Confusion matrix: [[13723   977]\n",
      " [  826 13874]]\n",
      "Report: {'0_unknown': {'precision': 0.9432263385799712, 'recall': 0.9335374149659864, 'f1-score': 0.9383568669014325, 'support': 14700}, '1_known': {'precision': 0.9342131842973537, 'recall': 0.9438095238095238, 'f1-score': 0.9389868363168759, 'support': 14700}, 'accuracy': 0.9386734693877551, 'macro avg': {'precision': 0.9387197614386624, 'recall': 0.9386734693877551, 'f1-score': 0.9386718516091541, 'support': 29400}, 'weighted avg': {'precision': 0.9387197614386624, 'recall': 0.9386734693877551, 'f1-score': 0.9386718516091542, 'support': 29400}}\n"
     ]
    }
   ],
   "source": [
    "testing_models_metrics(class_amount=300, model_suff_path=\"/kaggle/working/threshold_stuff\", train_test_indices_path=\"/kaggle/working/train_test_indices_threshold.pkl\", dataloaders=dataloaders)"
   ]
  },
  {
   "cell_type": "code",
   "execution_count": 23,
   "metadata": {
    "execution": {
     "iopub.execute_input": "2024-12-25T13:28:52.546859Z",
     "iopub.status.busy": "2024-12-25T13:28:52.546520Z",
     "iopub.status.idle": "2024-12-25T13:28:52.553650Z",
     "shell.execute_reply": "2024-12-25T13:28:52.552766Z",
     "shell.execute_reply.started": "2024-12-25T13:28:52.546819Z"
    },
    "trusted": true
   },
   "outputs": [
    {
     "name": "stdout",
     "output_type": "stream",
     "text": [
      "Threshold value: 0.9863355755805969\n"
     ]
    },
    {
     "name": "stderr",
     "output_type": "stream",
     "text": [
      "<ipython-input-23-8db349f9cef3>:1: FutureWarning: You are using `torch.load` with `weights_only=False` (the current default value), which uses the default pickle module implicitly. It is possible to construct malicious pickle data which will execute arbitrary code during unpickling (See https://github.com/pytorch/pytorch/blob/main/SECURITY.md#untrusted-models for more details). In a future release, the default value for `weights_only` will be flipped to `True`. This limits the functions that could be executed during unpickling. Arbitrary objects will no longer be allowed to be loaded via this mode unless they are explicitly allowlisted by the user via `torch.serialization.add_safe_globals`. We recommend you start setting `weights_only=True` for any use case where you don't have full control of the loaded file. Please open an issue on GitHub for any issues related to this experimental feature.\n",
      "  loaded_threshold = torch.load(\"/kaggle/working/threshold_stuff/threshold.pth\")\n"
     ]
    }
   ],
   "source": [
    "loaded_threshold = torch.load(\"/kaggle/working/threshold_stuff/threshold.pth\")\n",
    "# Print the value\n",
    "print(f\"Threshold value: {loaded_threshold.item()}\")"
   ]
  }
 ],
 "metadata": {
  "kaggle": {
   "accelerator": "gpu",
   "dataSources": [
    {
     "datasetId": 6266879,
     "sourceId": 10159736,
     "sourceType": "datasetVersion"
    }
   ],
   "isGpuEnabled": true,
   "isInternetEnabled": true,
   "language": "python",
   "sourceType": "notebook"
  },
  "kernelspec": {
   "display_name": "Python 3",
   "language": "python",
   "name": "python3"
  },
  "language_info": {
   "codemirror_mode": {
    "name": "ipython",
    "version": 3
   },
   "file_extension": ".py",
   "mimetype": "text/x-python",
   "name": "python",
   "nbconvert_exporter": "python",
   "pygments_lexer": "ipython3",
   "version": "3.10.12"
  }
 },
 "nbformat": 4,
 "nbformat_minor": 4
}
