{
 "cells": [
  {
   "cell_type": "markdown",
   "metadata": {},
   "source": [
    "# Imports"
   ]
  },
  {
   "cell_type": "code",
   "execution_count": 1,
   "metadata": {},
   "outputs": [],
   "source": [
    "import os"
   ]
  },
  {
   "cell_type": "markdown",
   "metadata": {},
   "source": [
    "# Main"
   ]
  },
  {
   "cell_type": "code",
   "execution_count": 4,
   "metadata": {},
   "outputs": [],
   "source": [
    "# pathes to the data\n",
    "kkanji_150_path = \"/mnt/d/Bachelor_work/data_for_model/kkanji2_150\"\n",
    "kkanji_200_path = \"/mnt/d/Bachelor_work/data_for_model/kkanji2_200\"\n",
    "kkanji_300_path = \"/mnt/d/Bachelor_work/data_for_model/kkanji2_300\"\n",
    "kkanji_2 = \"/mnt/d/Bachelor_work/data_for_model/kkanji2\"\n",
    "pathes = {150:kkanji_150_path, 200:kkanji_200_path, 300:kkanji_300_path}\n",
    "\n",
    "with open(\"kkanji_classes_distribution_sorted.txt\", \"r\") as f:\n",
    "    lines = f.readlines()\n",
    "\n",
    "    for i, line in enumerate(lines):\n",
    "        if i == 300:\n",
    "            break\n",
    "\n",
    "        line = line.strip()\n",
    "        class_name, class_count = line.split(\" \")\n",
    "        \n",
    "        for k, v in pathes.items():\n",
    "            if i < k:\n",
    "                # copy folder with class_name from kkanji_2 to kkanji_2_{k}\n",
    "                os.system(f\"cp -r {kkanji_2}//{class_name} {v}\")\n",
    "    "
   ]
  }
 ],
 "metadata": {
  "kernelspec": {
   "display_name": "bachelor_env",
   "language": "python",
   "name": "python3"
  },
  "language_info": {
   "codemirror_mode": {
    "name": "ipython",
    "version": 3
   },
   "file_extension": ".py",
   "mimetype": "text/x-python",
   "name": "python",
   "nbconvert_exporter": "python",
   "pygments_lexer": "ipython3",
   "version": "3.10.12"
  }
 },
 "nbformat": 4,
 "nbformat_minor": 2
}
