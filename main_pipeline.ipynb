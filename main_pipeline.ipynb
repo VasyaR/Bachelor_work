{
 "cells": [
  {
   "cell_type": "code",
   "execution_count": null,
   "metadata": {},
   "outputs": [],
   "source": [
    "import deeplake\n",
    "import cv2\n",
    "import os\n",
    "import xml.etree.ElementTree as ET\n",
    "import struct\n",
    "from PIL import Image\n",
    "import re\n",
    "\n",
    "import numpy as np\n",
    "import matplotlib.pyplot as plt\n",
    "import pandas as pd\n",
    "import seaborn as sns\n",
    "\n",
    "from collections import defaultdict\n",
    "\n",
    "import torch\n",
    "import torchvision.transforms as transforms\n",
    "from PIL import Image\n",
    "\n",
    "int_inf = 9223372036854775807"
   ]
  },
  {
   "cell_type": "code",
   "execution_count": null,
   "metadata": {},
   "outputs": [],
   "source": [
    "# Image preprocessing for resnet 18\n",
    "\n",
    "# Preprocessing: Resize to 224x224 and stack the grayscale image into 3 channels\n",
    "preprocess = transforms.Compose([\n",
    "    transforms.Resize((224, 224)),     # Resize to 224x224\n",
    "    transforms.Grayscale(num_output_channels=3),  # Convert grayscale to 3-channel\n",
    "    transforms.ToTensor(),             # Convert to tensor\n",
    "    transforms.Normalize(mean=[0.5, 0.5, 0.5], std=[0.5, 0.5, 0.5]),  # Normalize\n",
    "])\n",
    "\n",
    "# Load and preprocess image\n",
    "image = Image.open('your_image_path_here').convert('L')  # Open image as grayscale\n",
    "image_tensor = preprocess(image)  # Preprocess image\n",
    "\n",
    "# Add batch dimension\n",
    "image_tensor = image_tensor.unsqueeze(0)  # Add batch size"
   ]
  }
 ],
 "metadata": {
  "kernelspec": {
   "display_name": "bachelor_env",
   "language": "python",
   "name": "python3"
  },
  "language_info": {
   "name": "python",
   "version": "3.10.12"
  }
 },
 "nbformat": 4,
 "nbformat_minor": 2
}
